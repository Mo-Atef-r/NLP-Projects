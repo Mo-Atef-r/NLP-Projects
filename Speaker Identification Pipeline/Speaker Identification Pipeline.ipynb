{
 "cells": [
  {
   "cell_type": "markdown",
   "id": "915b7bd0",
   "metadata": {},
   "source": [
    "# Dataset\n",
    "\n",
    "This project utilizes the **RAVDESS (Ryerson Audio-Visual Database of Emotional Speech and Song)** dataset.\n",
    "\n",
    "Original Source:\n",
    "* Livingstone, S. R., & Russo, F. A. (2018). The Ryerson Audio-Visual Database of Emotional Speech and Song (RAVDESS): A dynamic, multimodal set of facial and vocal expressions in North American English for research on emotion perception. PLoS ONE, 13(5), e0196391.\n",
    "\n",
    "Dataset hosted on Kaggle:\n",
    "* [RAVDESS Emotional Speech Audio Dataset](https://www.kaggle.com/datasets/uwrfkaggler/ravdess-emotional-speech-audio/data)"
   ]
  },
  {
   "cell_type": "markdown",
   "id": "2a98962c",
   "metadata": {},
   "source": [
    "# Speaker Identification Pipeline\n",
    "## Project Overview\n",
    "This project implements a complete, end-to-end speaker identification pipeline utilizing a pre-trained ECAPA-TDNN deep learning model from the SpeechBrain toolkit. It focuses on identifying known speakers from audio inputs and robustly rejecting unknown or unauthorized individuals, forming the core of a voice biometric system.\n",
    "\n",
    "## Methodology & Pipeline Stages\n",
    "The pipeline encompasses several critical stages:\n",
    "\n",
    "### Data Preparation\n",
    "\n",
    "Meticulously filters and organizes audio files from the RAVDESS emotional speech dataset (Actor_01 to Actor_24).\n",
    "Splits data into distinct enrollment (training) and test sets for enrolled actors (Actors 01-06) based on specific criteria (e.g., statement, emotion, repetition).\n",
    "Prepares a large set of \"unknown\" (imposter) actor data (Actors 07-24) for robust imposter rejection testing, covering all statement 1 files with diverse emotions and intensities.\n",
    "\n",
    "### Speaker Enrollment:\n",
    "\n",
    "Generates unique voiceprint embeddings for each enrolled speaker.\n",
    "This is achieved by extracting and averaging multiple embeddings from their designated enrollment audio files, creating a robust representation.\n",
    "\n",
    "### 1:N Speaker Identification:\n",
    "\n",
    "Develops a core function to identify a speaker from any new audio input.\n",
    "Compares the incoming audio's embedding against all enrolled voiceprints using cosine similarity.\n",
    "Applies a dynamically calibrated similarity threshold to make identification decisions (accept/reject).\n",
    "\n",
    "\n",
    "### Imposter Rejection Testing:\n",
    "\n",
    "Performs extensive evaluation of the model's ability to reject unknown (imposter) speakers.\n",
    "Tests against a large, dedicated set of unenrolled actors (Actors 07-24) to quantify the system's robustness against unauthorized access attempts.\n",
    "\n",
    "### Key Findings & Achievements\n",
    "High Imposter Rejection Accuracy: Achieved a remarkable 95.7% accuracy in correctly rejecting unseen and unenrolled actors (imposters) across a diverse set of audio files.\n",
    "Identified Model Nuances: Through detailed analysis, observed specific instances of potential confusion, notably between Actor 01 and Actor 23. This highlights areas for future model refinement or the need for more diverse enrollment data to enhance intra-class separation.\n",
    "Threshold Optimization Insight: Demonstrated the critical importance and practical utility of adjusting the detection threshold. This allows for strategic prioritization, such as minimizing False Acceptances for security-sensitive applications, even at the potential cost of slightly higher False Rejection Rates."
   ]
  },
  {
   "cell_type": "code",
   "execution_count": 1,
   "id": "ed037354",
   "metadata": {},
   "outputs": [],
   "source": [
    "import os\n",
    "import torch\n",
    "import torchaudio\n",
    "from speechbrain.inference.speaker import EncoderClassifier\n",
    "from pydub import AudioSegment\n",
    "from pydub.playback import play\n",
    "import numpy as np\n",
    "from sklearn.metrics import roc_curve, auc\n",
    "import matplotlib.pyplot as plt\n",
    "from tqdm import tqdm"
   ]
  },
  {
   "cell_type": "code",
   "execution_count": 2,
   "id": "dac33c42",
   "metadata": {},
   "outputs": [],
   "source": [
    "# --- Configuration ---\n",
    "RAVDESS_PATH = r\"D:\\Data_and_AI\\Datasets\\RAVDESS Emotion Classification Dataset\"\n",
    "OUTPUT_DIR = \"voice_auth_data\" # Directory to save embeddings and results\n",
    "os.makedirs(OUTPUT_DIR, exist_ok=True)\n",
    "\n",
    "# Selected actors (3 males, 3 females)\n",
    "# Actor IDs: Odd are male, Even are female.\n",
    "# Actor 01, 02, 03, 04, 05, 06\n",
    "SELECTED_ACTORS = [f\"Actor_{i:02d}\" for i in [1, 2, 3, 4, 5, 6]]\n",
    "\n",
    "# RAVDESS file naming convention mapping\n",
    "# File format: 03-01-XX-YY-01-ZZ-AA.wav\n",
    "# Index 2: Emotion (01=neutral, 02=calm, 03=happy, 04=sad, 05=angry, 06=fearful, 07=disgust, 08=surprised)\n",
    "# Index 3: Emotional intensity (01=normal, 02=strong)\n",
    "# Index 4: Statement (01=\"Kids are talking by the door\", 02=\"Dogs are sitting by the door\")\n",
    "# Index 5: Repetition (01=1st repetition, 02=2nd repetition)\n",
    "\n",
    "STATEMENT_ID = '01' # \"Kids are talking by the door\"\n",
    "EMOTION_IDS = ['02', '03', '05'] # Calm, Happy, Angry\n",
    "INTENSITY_IDS = ['01', '02'] # Normal, Strong\n",
    "REPETITION_ENROLL = '01' # Use 1st repetition for enrollment\n",
    "REPETITION_TEST = '02' # Use 2nd repetition for testing/calibration"
   ]
  },
  {
   "cell_type": "code",
   "execution_count": 3,
   "id": "03f196d5",
   "metadata": {},
   "outputs": [
    {
     "name": "stdout",
     "output_type": "stream",
     "text": [
      "Loading SpeechBrain ECAPA-TDNN model...\n"
     ]
    },
    {
     "name": "stderr",
     "output_type": "stream",
     "text": [
      "D:\\Data_and_AI\\anaconda3\\envs\\nlp\\Lib\\site-packages\\speechbrain\\utils\\autocast.py:188: FutureWarning: `torch.cuda.amp.custom_fwd(args...)` is deprecated. Please use `torch.amp.custom_fwd(args..., device_type='cuda')` instead.\n",
      "  wrapped_fwd = torch.cuda.amp.custom_fwd(fwd, cast_inputs=cast_inputs)\n",
      "D:\\Data_and_AI\\anaconda3\\envs\\nlp\\Lib\\site-packages\\speechbrain\\utils\\parameter_transfer.py:234: UserWarning: Requested Pretrainer collection using symlinks on Windows. This might not work; see `LocalStrategy` documentation. Consider unsetting `collect_in` in Pretrainer to avoid symlinking altogether.\n",
      "  warnings.warn(\n"
     ]
    },
    {
     "name": "stdout",
     "output_type": "stream",
     "text": [
      "Model loaded successfully to CPU.\n"
     ]
    }
   ],
   "source": [
    "# --- Step 1: Setup and Imports (SpeechBrain Model) ---\n",
    "print(\"Loading SpeechBrain ECAPA-TDNN model...\")\n",
    "# Using `savedir` to cache the model locally after first download\n",
    "speaker_model = EncoderClassifier.from_hparams(\n",
    "    source=\"speechbrain/spkrec-ecapa-voxceleb\",\n",
    "    savedir=\"pretrained_ecapa_model\",\n",
    "    run_opts={\"device\":\"cpu\"} # Force CPU usage\n",
    ")\n",
    "print(\"Model loaded successfully to CPU.\")"
   ]
  },
  {
   "cell_type": "code",
   "execution_count": 4,
   "id": "245357e9",
   "metadata": {},
   "outputs": [],
   "source": [
    "# --- Helper Functions ---\n",
    "\n",
    "def load_audio(path):\n",
    "    \"\"\"Loads an audio file and resamples it to 16kHz if necessary.\"\"\"\n",
    "\n",
    "    signal, fs = torchaudio.load(path)\n",
    "\n",
    "    if fs != 16000:\n",
    "        resampler = torchaudio.transforms.Resample(orig_freq=fs, new_freq=16000)\n",
    "        signal = resampler(signal)\n",
    "      \n",
    "    # Ensure signal is mono and has shape [batch, samples] for SpeechBrain\n",
    "    if signal.dim() == 1:\n",
    "        # [samples] → [1, samples]\n",
    "        signal = signal.unsqueeze(0)\n",
    "\n",
    "    elif signal.dim() == 2:\n",
    "        # [channels, samples] → [1, samples] if multi-channel (e.g., from torchaudio.load)\n",
    "        if signal.shape[0] > 1:\n",
    "            signal = signal.mean(dim=0, keepdim=True)\n",
    "\n",
    "    elif signal.dim() == 3:\n",
    "        # [batch, channels, samples] → [batch, samples] (mono)\n",
    "        signal = signal.mean(dim=1)\n",
    "\n",
    "    else:\n",
    "        raise ValueError(f\"Unexpected signal shape: {signal.shape}\")\n",
    "\n",
    "    return signal\n",
    "\n",
    "\n",
    "def get_embedding(audio_path):\n",
    "    \"\"\"Extracts speaker embedding from an audio file.\"\"\"\n",
    "    signal = load_audio(audio_path)\n",
    "    \n",
    "    with torch.no_grad(): # Disable gradient computation for inference\n",
    "        # The encode_batch method often returns [batch, 1, embedding_dim]\n",
    "        embeddings = speaker_model.encode_batch(signal.to(speaker_model.device))\n",
    "    \n",
    "    # Return the embedding vector, typically squeezing out unnecessary dimensions\n",
    "    return embeddings.squeeze().cpu() # Move to CPU and remove batch/channel dims\n",
    "\n",
    "\n",
    "def cosine_similarity(emb1, emb2):\n",
    "    \"\"\"Computes cosine similarity between two embedding vectors.\"\"\"\n",
    "    return torch.nn.functional.cosine_similarity(emb1, emb2, dim=0).item()"
   ]
  },
  {
   "cell_type": "code",
   "execution_count": 5,
   "id": "c8cee715",
   "metadata": {},
   "outputs": [
    {
     "name": "stdout",
     "output_type": "stream",
     "text": [
      "\n",
      "Collecting RAVDESS audio file paths...\n",
      "Actor 01: 6 enrollment files, 6 test files found.\n",
      "Actor 02: 6 enrollment files, 6 test files found.\n",
      "Actor 03: 6 enrollment files, 6 test files found.\n",
      "Actor 04: 6 enrollment files, 6 test files found.\n",
      "Actor 05: 6 enrollment files, 6 test files found.\n",
      "Actor 06: 6 enrollment files, 6 test files found.\n"
     ]
    }
   ],
   "source": [
    "# --- Step 2: Data Collection and Pre-processing ---\n",
    "# List to store actor info and file paths\n",
    "actor_data = {}\n",
    "\n",
    "print(\"\\nCollecting RAVDESS audio file paths...\")\n",
    "for actor_id_num in [int(a.split('_')[1]) for a in SELECTED_ACTORS]:\n",
    "    actor_folder = f\"Actor_{actor_id_num:02d}\"\n",
    "    actor_full_path = os.path.join(RAVDESS_PATH, actor_folder)\n",
    "\n",
    "    actor_files_enroll = []\n",
    "    actor_files_test = []\n",
    "\n",
    "    for filename in os.listdir(actor_full_path):\n",
    "        if not filename.endswith('.wav'):\n",
    "            continue\n",
    "        \n",
    "        parts = filename.split('-')\n",
    "        modality, vocal_channel, emotion, intensity, statement, repetition, actor_num = parts[0], parts[1], parts[2], parts[3], parts[4], parts[5], parts[6].split('.')[0]\n",
    "        \n",
    "        # Filter based on your criteria\n",
    "        if (modality == '03' and vocal_channel == '01' and # audio-only speech\n",
    "            statement == STATEMENT_ID and # \"Kids are talking by the door\"\n",
    "            emotion in EMOTION_IDS and # Calm, Happy, Angry\n",
    "            intensity in INTENSITY_IDS): # Normal, Strong\n",
    "\n",
    "            full_file_path = os.path.join(actor_full_path, filename)\n",
    "            \n",
    "            if repetition == REPETITION_ENROLL:\n",
    "                actor_files_enroll.append(full_file_path)\n",
    "            elif repetition == REPETITION_TEST:\n",
    "                actor_files_test.append(full_file_path)\n",
    "\n",
    "    actor_data[f\"Actor_{actor_id_num:02d}\"] = {\n",
    "        'enrollment_files': actor_files_enroll,\n",
    "        'test_files': actor_files_test\n",
    "    }\n",
    "    print(f\"Actor {actor_id_num:02d}: {len(actor_files_enroll)} enrollment files, {len(actor_files_test)} test files found.\")\n"
   ]
  },
  {
   "cell_type": "code",
   "execution_count": 6,
   "id": "87a30f39",
   "metadata": {
    "scrolled": false
   },
   "outputs": [
    {
     "name": "stdout",
     "output_type": "stream",
     "text": [
      "\n",
      "Enrolling selected actors...\n"
     ]
    },
    {
     "name": "stderr",
     "output_type": "stream",
     "text": [
      "Enrollment Progress:  17%|██████████▌                                                    | 1/6 [00:02<00:11,  2.35s/it]"
     ]
    },
    {
     "name": "stdout",
     "output_type": "stream",
     "text": [
      "  Enrolled Actor_01 with mean embedding of shape torch.Size([192])\n"
     ]
    },
    {
     "name": "stderr",
     "output_type": "stream",
     "text": [
      "\r",
      "Enrollment Progress:  33%|█████████████████████                                          | 2/6 [00:04<00:09,  2.31s/it]"
     ]
    },
    {
     "name": "stdout",
     "output_type": "stream",
     "text": [
      "  Enrolled Actor_02 with mean embedding of shape torch.Size([192])\n"
     ]
    },
    {
     "name": "stderr",
     "output_type": "stream",
     "text": [
      "\r",
      "Enrollment Progress:  50%|███████████████████████████████▌                               | 3/6 [00:07<00:07,  2.36s/it]"
     ]
    },
    {
     "name": "stdout",
     "output_type": "stream",
     "text": [
      "  Enrolled Actor_03 with mean embedding of shape torch.Size([192])\n"
     ]
    },
    {
     "name": "stderr",
     "output_type": "stream",
     "text": [
      "\r",
      "Enrollment Progress:  67%|██████████████████████████████████████████                     | 4/6 [00:09<00:04,  2.33s/it]"
     ]
    },
    {
     "name": "stdout",
     "output_type": "stream",
     "text": [
      "  Enrolled Actor_04 with mean embedding of shape torch.Size([192])\n"
     ]
    },
    {
     "name": "stderr",
     "output_type": "stream",
     "text": [
      "\r",
      "Enrollment Progress:  83%|████████████████████████████████████████████████████▌          | 5/6 [00:11<00:02,  2.43s/it]"
     ]
    },
    {
     "name": "stdout",
     "output_type": "stream",
     "text": [
      "  Enrolled Actor_05 with mean embedding of shape torch.Size([192])\n"
     ]
    },
    {
     "name": "stderr",
     "output_type": "stream",
     "text": [
      "Enrollment Progress: 100%|███████████████████████████████████████████████████████████████| 6/6 [00:14<00:00,  2.45s/it]"
     ]
    },
    {
     "name": "stdout",
     "output_type": "stream",
     "text": [
      "  Enrolled Actor_06 with mean embedding of shape torch.Size([192])\n",
      "Enrolled voiceprints saved to voice_auth_data\\enrolled_voiceprints.pt\n"
     ]
    },
    {
     "name": "stderr",
     "output_type": "stream",
     "text": [
      "\n"
     ]
    }
   ],
   "source": [
    "# --- Step 3: Speaker Enrollment ---\n",
    "# Dictionary to store enrolled voiceprints (mean embeddings)\n",
    "enrolled_voiceprints = {}\n",
    "\n",
    "print(\"\\nEnrolling selected actors...\")\n",
    "for actor_id, data in tqdm(actor_data.items(), desc=\"Enrollment Progress\"):\n",
    "    enrollment_embeddings = []\n",
    "    for filepath in data['enrollment_files']:\n",
    "        emb = get_embedding(filepath)\n",
    "        enrollment_embeddings.append(emb)\n",
    "    \n",
    "    # Compute the mean embedding for enrollment\n",
    "    if enrollment_embeddings:\n",
    "        mean_embedding = torch.mean(torch.stack(enrollment_embeddings), dim=0)\n",
    "        enrolled_voiceprints[actor_id] = mean_embedding\n",
    "        print(f\"  Enrolled {actor_id} with mean embedding of shape {mean_embedding.shape}\")\n",
    "    else:\n",
    "        print(f\"  Warning: No enrollment files found for {actor_id}. Skipping enrollment.\")\n",
    "\n",
    "# Save enrolled voiceprints for later use\n",
    "torch.save(enrolled_voiceprints, os.path.join(OUTPUT_DIR, \"enrolled_voiceprints.pt\"))\n",
    "print(f\"Enrolled voiceprints saved to {os.path.join(OUTPUT_DIR, 'enrolled_voiceprints.pt')}\")"
   ]
  },
  {
   "cell_type": "code",
   "execution_count": 7,
   "id": "f2c2bb36",
   "metadata": {},
   "outputs": [],
   "source": [
    "# --- Step 4: Speaker Verification Function ---\n",
    "\n",
    "def identify_speaker(audio_path, enrolled_prints, threshold=0.5):\n",
    "    \"\"\"\n",
    "    Identifies the speaker in audio_path from enrolled_prints.\n",
    "    Returns (identified_actor_id, highest_score) if identified and above threshold,\n",
    "    else returns (None, highest_score) if not identified (imposter).\n",
    "    \"\"\"\n",
    "    live_embedding = get_embedding(audio_path)\n",
    "\n",
    "    best_match_id = None\n",
    "    highest_score = -1.0 # Cosine similarity ranges from -1 to 1\n",
    "\n",
    "    for actor_id, stored_embedding in enrolled_prints.items():\n",
    "        score = cosine_similarity(live_embedding, stored_embedding)\n",
    "        if score > highest_score:\n",
    "            highest_score = score\n",
    "            best_match_id = actor_id\n",
    "    \n",
    "    # Apply the threshold for open-set identification\n",
    "    if highest_score >= threshold:\n",
    "        return best_match_id, highest_score # Identified\n",
    "    else:\n",
    "        return None, highest_score # Not identified (imposter or unknown speaker)"
   ]
  },
  {
   "cell_type": "code",
   "execution_count": 15,
   "id": "fedff38a",
   "metadata": {},
   "outputs": [
    {
     "data": {
      "text/plain": [
       "['D:\\\\Data_and_AI\\\\Datasets\\\\RAVDESS Emotion Classification Dataset\\\\Actor_01\\\\03-01-02-01-01-02-01.wav',\n",
       " 'D:\\\\Data_and_AI\\\\Datasets\\\\RAVDESS Emotion Classification Dataset\\\\Actor_01\\\\03-01-02-02-01-02-01.wav',\n",
       " 'D:\\\\Data_and_AI\\\\Datasets\\\\RAVDESS Emotion Classification Dataset\\\\Actor_01\\\\03-01-03-01-01-02-01.wav',\n",
       " 'D:\\\\Data_and_AI\\\\Datasets\\\\RAVDESS Emotion Classification Dataset\\\\Actor_01\\\\03-01-03-02-01-02-01.wav',\n",
       " 'D:\\\\Data_and_AI\\\\Datasets\\\\RAVDESS Emotion Classification Dataset\\\\Actor_01\\\\03-01-05-01-01-02-01.wav',\n",
       " 'D:\\\\Data_and_AI\\\\Datasets\\\\RAVDESS Emotion Classification Dataset\\\\Actor_01\\\\03-01-05-02-01-02-01.wav']"
      ]
     },
     "execution_count": 15,
     "metadata": {},
     "output_type": "execute_result"
    }
   ],
   "source": [
    "actor_data['Actor_01']['test_files']"
   ]
  },
  {
   "cell_type": "code",
   "execution_count": 22,
   "id": "ca93f8fb",
   "metadata": {},
   "outputs": [],
   "source": [
    "def parse_ravdess_filename(filename):\n",
    "    \"\"\"\n",
    "    Parses a RAVDESS filename to extract relevant features.\n",
    "    Example: '03-01-02-01-01-02-01.wav'\n",
    "    \"\"\"\n",
    "    parts = os.path.basename(filename).split('.')[0].split('-')\n",
    "    \n",
    "    # Define mappings (based on RAVDESS documentation)\n",
    "    emotion_map = {\n",
    "        '01': 'Neutral', '02': 'Calm', '03': 'Happy', '04': 'Sad',\n",
    "        '05': 'Angry', '06': 'Fearful', '07': 'Disgust', '08': 'Surprised'\n",
    "    }\n",
    "    intensity_map = {'01': 'Normal', '02': 'Strong'}\n",
    "    \n",
    "    # Extract relevant parts\n",
    "    actor_id = int(parts[6]) # Actor ID is 7th part (index 6)\n",
    "    emotion_code = parts[2]  # Emotion is 3rd part (index 2)\n",
    "    intensity_code = parts[3] # Intensity is 4th part (index 3)\n",
    "    repetition_code = parts[4] # Repetition is 5th part (index 4)\n",
    "\n",
    "    emotion = emotion_map.get(emotion_code, f'Unknown({emotion_code})')\n",
    "    intensity = intensity_map.get(intensity_code, f'Unknown({intensity_code})')\n",
    "    repetition = f'Repetition {repetition_code}'\n",
    "    \n",
    "    return f\"Actor {actor_id:02d}, {emotion}, {intensity}, {repetition}\""
   ]
  },
  {
   "cell_type": "markdown",
   "id": "eff62277",
   "metadata": {},
   "source": [
    "### Showing Scores and Labels for Training and Test Sets"
   ]
  },
  {
   "cell_type": "code",
   "execution_count": 24,
   "id": "78c6f7c2",
   "metadata": {
    "scrolled": false
   },
   "outputs": [
    {
     "name": "stdout",
     "output_type": "stream",
     "text": [
      "\n",
      "--- Calibration and Testing for 1:N Identification ---\n",
      "\n",
      "--- Scores for ENROLLMENT Files (Individual Voiceprints) ---\n",
      "File Details                        Actor ID   Similarity Score\n",
      "------------------------------------------------------------\n"
     ]
    },
    {
     "name": "stderr",
     "output_type": "stream",
     "text": [
      "\r",
      "Processing Enrollment Files:   0%|                                                               | 0/6 [00:00<?, ?it/s]"
     ]
    },
    {
     "name": "stdout",
     "output_type": "stream",
     "text": [
      "Actor 01, Calm, Normal, Repetition 01 Actor_01   0.8230\n",
      "Actor 01, Calm, Strong, Repetition 01 Actor_01   0.7639\n",
      "Actor 01, Happy, Normal, Repetition 01 Actor_01   0.7962\n",
      "Actor 01, Happy, Strong, Repetition 01 Actor_01   0.7975\n",
      "Actor 01, Angry, Normal, Repetition 01 Actor_01   0.7862\n"
     ]
    },
    {
     "name": "stderr",
     "output_type": "stream",
     "text": [
      "\r",
      "Processing Enrollment Files:  17%|█████████▏                                             | 1/6 [00:02<00:11,  2.35s/it]"
     ]
    },
    {
     "name": "stdout",
     "output_type": "stream",
     "text": [
      "Actor 01, Angry, Strong, Repetition 01 Actor_01   0.5373\n",
      "Actor 02, Calm, Normal, Repetition 01 Actor_02   0.8253\n",
      "Actor 02, Calm, Strong, Repetition 01 Actor_02   0.7205\n",
      "Actor 02, Happy, Normal, Repetition 01 Actor_02   0.8404\n",
      "Actor 02, Happy, Strong, Repetition 01 Actor_02   0.7677\n",
      "Actor 02, Angry, Normal, Repetition 01 Actor_02   0.7722\n"
     ]
    },
    {
     "name": "stderr",
     "output_type": "stream",
     "text": [
      "\r",
      "Processing Enrollment Files:  33%|██████████████████▎                                    | 2/6 [00:04<00:09,  2.37s/it]"
     ]
    },
    {
     "name": "stdout",
     "output_type": "stream",
     "text": [
      "Actor 02, Angry, Strong, Repetition 01 Actor_02   0.5553\n",
      "Actor 03, Calm, Normal, Repetition 01 Actor_03   0.8496\n",
      "Actor 03, Calm, Strong, Repetition 01 Actor_03   0.8558\n",
      "Actor 03, Happy, Normal, Repetition 01 Actor_03   0.8216\n",
      "Actor 03, Happy, Strong, Repetition 01 Actor_03   0.7216\n",
      "Actor 03, Angry, Normal, Repetition 01 Actor_03   0.6990\n"
     ]
    },
    {
     "name": "stderr",
     "output_type": "stream",
     "text": [
      "\r",
      "Processing Enrollment Files:  50%|███████████████████████████▌                           | 3/6 [00:07<00:07,  2.44s/it]"
     ]
    },
    {
     "name": "stdout",
     "output_type": "stream",
     "text": [
      "Actor 03, Angry, Strong, Repetition 01 Actor_03   0.6535\n",
      "Actor 04, Calm, Normal, Repetition 01 Actor_04   0.8455\n",
      "Actor 04, Calm, Strong, Repetition 01 Actor_04   0.7776\n",
      "Actor 04, Happy, Normal, Repetition 01 Actor_04   0.8834\n",
      "Actor 04, Happy, Strong, Repetition 01 Actor_04   0.8027\n",
      "Actor 04, Angry, Normal, Repetition 01 Actor_04   0.8435\n"
     ]
    },
    {
     "name": "stderr",
     "output_type": "stream",
     "text": [
      "\r",
      "Processing Enrollment Files:  67%|████████████████████████████████████▋                  | 4/6 [00:09<00:04,  2.42s/it]"
     ]
    },
    {
     "name": "stdout",
     "output_type": "stream",
     "text": [
      "Actor 04, Angry, Strong, Repetition 01 Actor_04   0.6844\n",
      "Actor 05, Calm, Normal, Repetition 01 Actor_05   0.7486\n",
      "Actor 05, Calm, Strong, Repetition 01 Actor_05   0.6939\n",
      "Actor 05, Happy, Normal, Repetition 01 Actor_05   0.7772\n",
      "Actor 05, Happy, Strong, Repetition 01 Actor_05   0.7324\n",
      "Actor 05, Angry, Normal, Repetition 01 Actor_05   0.7271\n"
     ]
    },
    {
     "name": "stderr",
     "output_type": "stream",
     "text": [
      "\r",
      "Processing Enrollment Files:  83%|█████████████████████████████████████████████▊         | 5/6 [00:12<00:02,  2.51s/it]"
     ]
    },
    {
     "name": "stdout",
     "output_type": "stream",
     "text": [
      "Actor 05, Angry, Strong, Repetition 01 Actor_05   0.6164\n",
      "Actor 06, Calm, Normal, Repetition 01 Actor_06   0.7294\n",
      "Actor 06, Calm, Strong, Repetition 01 Actor_06   0.7514\n",
      "Actor 06, Happy, Normal, Repetition 01 Actor_06   0.6801\n",
      "Actor 06, Happy, Strong, Repetition 01 Actor_06   0.5477\n",
      "Actor 06, Angry, Normal, Repetition 01 Actor_06   0.7065\n"
     ]
    },
    {
     "name": "stderr",
     "output_type": "stream",
     "text": [
      "Processing Enrollment Files: 100%|███████████████████████████████████████████████████████| 6/6 [00:14<00:00,  2.47s/it]\n"
     ]
    },
    {
     "name": "stdout",
     "output_type": "stream",
     "text": [
      "Actor 06, Angry, Strong, Repetition 01 Actor_06   0.6546\n",
      "\n",
      "--- Generating Scores for 1:N Test Trials ---\n"
     ]
    },
    {
     "name": "stderr",
     "output_type": "stream",
     "text": [
      "\r",
      "Generating 1:N Test Scores:   0%|                                                                | 0/6 [00:00<?, ?it/s]"
     ]
    },
    {
     "name": "stdout",
     "output_type": "stream",
     "text": [
      "Actor 01, Calm, Normal, Repetition 01 | True Speaker: Actor_01   | Best Match: Actor_01   | Score: 0.7423 | Status: GENUINE\n",
      "Actor 01, Calm, Strong, Repetition 01 | True Speaker: Actor_01   | Best Match: Actor_01   | Score: 0.7867 | Status: GENUINE\n",
      "Actor 01, Happy, Normal, Repetition 01 | True Speaker: Actor_01   | Best Match: Actor_01   | Score: 0.7854 | Status: GENUINE\n",
      "Actor 01, Happy, Strong, Repetition 01 | True Speaker: Actor_01   | Best Match: Actor_01   | Score: 0.6680 | Status: GENUINE\n",
      "Actor 01, Angry, Normal, Repetition 01 | True Speaker: Actor_01   | Best Match: Actor_01   | Score: 0.7347 | Status: GENUINE\n"
     ]
    },
    {
     "name": "stderr",
     "output_type": "stream",
     "text": [
      "\r",
      "Generating 1:N Test Scores:  17%|█████████▎                                              | 1/6 [00:02<00:12,  2.55s/it]"
     ]
    },
    {
     "name": "stdout",
     "output_type": "stream",
     "text": [
      "Actor 01, Angry, Strong, Repetition 01 | True Speaker: Actor_01   | Best Match: Actor_01   | Score: 0.5512 | Status: GENUINE\n",
      "Actor 02, Calm, Normal, Repetition 01 | True Speaker: Actor_02   | Best Match: Actor_02   | Score: 0.6408 | Status: GENUINE\n",
      "Actor 02, Calm, Strong, Repetition 01 | True Speaker: Actor_02   | Best Match: Actor_02   | Score: 0.6663 | Status: GENUINE\n",
      "Actor 02, Happy, Normal, Repetition 01 | True Speaker: Actor_02   | Best Match: Actor_02   | Score: 0.7390 | Status: GENUINE\n",
      "Actor 02, Happy, Strong, Repetition 01 | True Speaker: Actor_02   | Best Match: Actor_02   | Score: 0.7165 | Status: GENUINE\n",
      "Actor 02, Angry, Normal, Repetition 01 | True Speaker: Actor_02   | Best Match: Actor_02   | Score: 0.7023 | Status: GENUINE\n"
     ]
    },
    {
     "name": "stderr",
     "output_type": "stream",
     "text": [
      "\r",
      "Generating 1:N Test Scores:  33%|██████████████████▋                                     | 2/6 [00:05<00:10,  2.53s/it]"
     ]
    },
    {
     "name": "stdout",
     "output_type": "stream",
     "text": [
      "Actor 02, Angry, Strong, Repetition 01 | True Speaker: Actor_02   | Best Match: Actor_02   | Score: 0.5924 | Status: GENUINE\n",
      "Actor 03, Calm, Normal, Repetition 01 | True Speaker: Actor_03   | Best Match: Actor_03   | Score: 0.8258 | Status: GENUINE\n",
      "Actor 03, Calm, Strong, Repetition 01 | True Speaker: Actor_03   | Best Match: Actor_03   | Score: 0.7887 | Status: GENUINE\n",
      "Actor 03, Happy, Normal, Repetition 01 | True Speaker: Actor_03   | Best Match: Actor_03   | Score: 0.7558 | Status: GENUINE\n",
      "Actor 03, Happy, Strong, Repetition 01 | True Speaker: Actor_03   | Best Match: Actor_03   | Score: 0.7060 | Status: GENUINE\n",
      "Actor 03, Angry, Normal, Repetition 01 | True Speaker: Actor_03   | Best Match: Actor_03   | Score: 0.6774 | Status: GENUINE\n"
     ]
    },
    {
     "name": "stderr",
     "output_type": "stream",
     "text": [
      "\r",
      "Generating 1:N Test Scores:  50%|████████████████████████████                            | 3/6 [00:07<00:07,  2.62s/it]"
     ]
    },
    {
     "name": "stdout",
     "output_type": "stream",
     "text": [
      "Actor 03, Angry, Strong, Repetition 01 | True Speaker: Actor_03   | Best Match: Actor_03   | Score: 0.6122 | Status: GENUINE\n",
      "Actor 04, Calm, Normal, Repetition 01 | True Speaker: Actor_04   | Best Match: Actor_04   | Score: 0.8695 | Status: GENUINE\n",
      "Actor 04, Calm, Strong, Repetition 01 | True Speaker: Actor_04   | Best Match: Actor_04   | Score: 0.8403 | Status: GENUINE\n",
      "Actor 04, Happy, Normal, Repetition 01 | True Speaker: Actor_04   | Best Match: Actor_04   | Score: 0.8045 | Status: GENUINE\n",
      "Actor 04, Happy, Strong, Repetition 01 | True Speaker: Actor_04   | Best Match: Actor_04   | Score: 0.7520 | Status: GENUINE\n",
      "Actor 04, Angry, Normal, Repetition 01 | True Speaker: Actor_04   | Best Match: Actor_04   | Score: 0.6777 | Status: GENUINE\n"
     ]
    },
    {
     "name": "stderr",
     "output_type": "stream",
     "text": [
      "\r",
      "Generating 1:N Test Scores:  67%|█████████████████████████████████████▎                  | 4/6 [00:10<00:05,  2.62s/it]"
     ]
    },
    {
     "name": "stdout",
     "output_type": "stream",
     "text": [
      "Actor 04, Angry, Strong, Repetition 01 | True Speaker: Actor_04   | Best Match: Actor_04   | Score: 0.6347 | Status: GENUINE\n",
      "Actor 05, Calm, Normal, Repetition 01 | True Speaker: Actor_05   | Best Match: Actor_05   | Score: 0.6742 | Status: GENUINE\n",
      "Actor 05, Calm, Strong, Repetition 01 | True Speaker: Actor_05   | Best Match: Actor_05   | Score: 0.6826 | Status: GENUINE\n",
      "Actor 05, Happy, Normal, Repetition 01 | True Speaker: Actor_05   | Best Match: Actor_05   | Score: 0.6762 | Status: GENUINE\n",
      "Actor 05, Happy, Strong, Repetition 01 | True Speaker: Actor_05   | Best Match: Actor_05   | Score: 0.7258 | Status: GENUINE\n",
      "Actor 05, Angry, Normal, Repetition 01 | True Speaker: Actor_05   | Best Match: Actor_05   | Score: 0.6503 | Status: GENUINE\n"
     ]
    },
    {
     "name": "stderr",
     "output_type": "stream",
     "text": [
      "\r",
      "Generating 1:N Test Scores:  83%|██████████████████████████████████████████████▋         | 5/6 [00:13<00:02,  2.64s/it]"
     ]
    },
    {
     "name": "stdout",
     "output_type": "stream",
     "text": [
      "Actor 05, Angry, Strong, Repetition 01 | True Speaker: Actor_05   | Best Match: Actor_05   | Score: 0.5128 | Status: GENUINE\n",
      "Actor 06, Calm, Normal, Repetition 01 | True Speaker: Actor_06   | Best Match: Actor_06   | Score: 0.6851 | Status: GENUINE\n",
      "Actor 06, Calm, Strong, Repetition 01 | True Speaker: Actor_06   | Best Match: Actor_06   | Score: 0.6571 | Status: GENUINE\n",
      "Actor 06, Happy, Normal, Repetition 01 | True Speaker: Actor_06   | Best Match: Actor_06   | Score: 0.7246 | Status: GENUINE\n",
      "Actor 06, Happy, Strong, Repetition 01 | True Speaker: Actor_06   | Best Match: Actor_06   | Score: 0.6075 | Status: GENUINE\n",
      "Actor 06, Angry, Normal, Repetition 01 | True Speaker: Actor_06   | Best Match: Actor_06   | Score: 0.6920 | Status: GENUINE\n"
     ]
    },
    {
     "name": "stderr",
     "output_type": "stream",
     "text": [
      "Generating 1:N Test Scores: 100%|████████████████████████████████████████████████████████| 6/6 [00:15<00:00,  2.64s/it]"
     ]
    },
    {
     "name": "stdout",
     "output_type": "stream",
     "text": [
      "Actor 06, Angry, Strong, Repetition 01 | True Speaker: Actor_06   | Best Match: Actor_06   | Score: 0.6207 | Status: GENUINE\n",
      "\n",
      "Total Genuine Test Trials: 36\n",
      "Total Imposter/Misidentified Test Trials: 0\n"
     ]
    },
    {
     "name": "stderr",
     "output_type": "stream",
     "text": [
      "\n"
     ]
    }
   ],
   "source": [
    "# --- Step 5: Calibration/Testing ---\n",
    "\n",
    "print(\"\\n--- Calibration and Testing for 1:N Identification ---\")\n",
    "\n",
    "# --- Individual Scores for ENROLLMENT Files (Training Set) ---\n",
    "print(\"\\n--- Scores for ENROLLMENT Files (Individual Voiceprints) ---\")\n",
    "print(\"{:<35} {:<10} {:<10}\".format(\"File Details\", \"Actor ID\", \"Similarity Score\"))\n",
    "print(\"-\" * 60)\n",
    "\n",
    "for actor_id, data in tqdm(actor_data.items(), desc=\"Processing Enrollment Files\"):\n",
    "    for enroll_file_path in data['enrollment_files']:\n",
    "        live_embedding = get_embedding(enroll_file_path)\n",
    "        \n",
    "        # Compare enrollment file embedding against its OWN enrolled voiceprint\n",
    "        # (This is expected to be high, as it's part of the averaged embedding)\n",
    "        score_to_self = cosine_similarity(live_embedding, enrolled_voiceprints[actor_id])\n",
    "        \n",
    "        file_details = parse_ravdess_filename(enroll_file_path)\n",
    "        print(f\"{file_details:<35} {actor_id:<10} {score_to_self:.4f}\")\n",
    "\n",
    "# --- Generate 1:N Test Scores ---\n",
    "print(\"\\n--- Generating Scores for 1:N Test Trials ---\")\n",
    "genuine_scores = []\n",
    "imposter_scores = [] \n",
    "\n",
    "labels = [] # 1 for genuine (best match is true actor), 0 for imposter (best match is not true actor)\n",
    "scores = [] # The highest similarity score for each trial\n",
    "\n",
    "\n",
    "# Iterate through each actor's test files to simulate identification attempts\n",
    "for true_actor_id, data in tqdm(actor_data.items(), desc=\"Generating 1:N Test Scores\"):\n",
    "    for test_file_path in data['test_files']:\n",
    "        live_embedding = get_embedding(test_file_path)\n",
    "\n",
    "        best_match_id = None\n",
    "        highest_score_for_trial = -1.0 # Cosine similarity ranges from -1 to 1\n",
    "\n",
    "        # Find the best match among ALL enrolled speakers for this test file\n",
    "        for enrolled_actor_id, stored_embedding in enrolled_voiceprints.items():\n",
    "            score = cosine_similarity(live_embedding, stored_embedding)\n",
    "            if score > highest_score_for_trial:\n",
    "                highest_score_for_trial = score\n",
    "                best_match_id = enrolled_actor_id\n",
    "        \n",
    "        scores.append(highest_score_for_trial)\n",
    "        \n",
    "        file_details = parse_ravdess_filename(test_file_path)\n",
    "        \n",
    "        print_line = f\"{file_details:<35} | True Speaker: {true_actor_id:<10} | \" \\\n",
    "                     f\"Best Match: {best_match_id:<10} | Score: {highest_score_for_trial:.4f}\"\n",
    "        \n",
    "        if best_match_id == true_actor_id:\n",
    "            labels.append(1) # Correctly identified as the true actor\n",
    "            genuine_scores.append(highest_score_for_trial)\n",
    "            print(f\"{print_line} | Status: GENUINE\")\n",
    "        else:\n",
    "            labels.append(0) # Incorrectly identified or an imposter scenario\n",
    "            imposter_scores.append(highest_score_for_trial)\n",
    "            print(f\"{print_line} | Status: IMPOSTER/MISIDENTIFIED\")\n",
    "\n",
    "print(f\"\\nTotal Genuine Test Trials: {len(genuine_scores)}\")\n",
    "print(f\"Total Imposter/Misidentified Test Trials: {len(imposter_scores)}\")"
   ]
  },
  {
   "cell_type": "markdown",
   "id": "2a5b6568",
   "metadata": {},
   "source": [
    "### Testing the pipeline on the rest of the dataset for further accuracy assestment\n",
    "#### Printing tests with a score higher than 0.4 for manual inspection"
   ]
  },
  {
   "cell_type": "code",
   "execution_count": 36,
   "id": "5724928a",
   "metadata": {
    "scrolled": false
   },
   "outputs": [
    {
     "name": "stdout",
     "output_type": "stream",
     "text": [
      "\n",
      "--- Testing on UNKNOWN Speakers (Actors 07-24) with Full RAVDESS Criteria ---\n",
      "Using identification threshold: 0.5000\n",
      "\n",
      "Collecting unknown speaker audio files based on new criteria...\n"
     ]
    },
    {
     "name": "stderr",
     "output_type": "stream",
     "text": [
      "Collecting Unknown Actor Files: 100%|████████████████████████████████████████████████| 18/18 [00:00<00:00, 2578.38it/s]\n"
     ]
    },
    {
     "name": "stdout",
     "output_type": "stream",
     "text": [
      "\n",
      "Processing all unknown speaker test files with new criteria...\n"
     ]
    },
    {
     "name": "stderr",
     "output_type": "stream",
     "text": [
      "\r",
      "Testing All Unknown Actors:   0%|                                                               | 0/18 [00:00<?, ?it/s]"
     ]
    },
    {
     "name": "stdout",
     "output_type": "stream",
     "text": [
      "File Details                             True     Identified Score    Status\n",
      "--------------------------------------------------------------------------------\n",
      "Actor 07, Sad, Strong, Repetition 01     Actor_07 None       0.4204   Correctly Rejected (Imposter)\n",
      "Actor 07, Disgust, Normal, Repetition 01 Actor_07 None       0.4203   Correctly Rejected (Imposter)\n"
     ]
    },
    {
     "name": "stderr",
     "output_type": "stream",
     "text": [
      "\r",
      "Testing All Unknown Actors:   6%|███                                                    | 1/18 [00:10<02:59, 10.55s/it]"
     ]
    },
    {
     "name": "stdout",
     "output_type": "stream",
     "text": [
      "Actor 08, Neutral, Normal, Repetition 01 Actor_08 None       0.4310   Correctly Rejected (Imposter)\n",
      "Actor 08, Neutral, Normal, Repetition 01 Actor_08 None       0.4571   Correctly Rejected (Imposter)\n",
      "Actor 08, Calm, Normal, Repetition 01    Actor_08 None       0.4652   Correctly Rejected (Imposter)\n",
      "Actor 08, Calm, Normal, Repetition 01    Actor_08 None       0.4965   Correctly Rejected (Imposter)\n",
      "Actor 08, Calm, Strong, Repetition 01    Actor_08 None       0.4737   Correctly Rejected (Imposter)\n",
      "Actor 08, Calm, Strong, Repetition 01    Actor_08 None       0.4464   Correctly Rejected (Imposter)\n",
      "Actor 08, Happy, Normal, Repetition 01   Actor_08 None       0.4360   Correctly Rejected (Imposter)\n",
      "Actor 08, Happy, Normal, Repetition 01   Actor_08 None       0.4951   Correctly Rejected (Imposter)\n",
      "Actor 08, Happy, Strong, Repetition 01   Actor_08 None       0.4766   Correctly Rejected (Imposter)\n",
      "Actor 08, Happy, Strong, Repetition 01   Actor_08 None       0.4707   Correctly Rejected (Imposter)\n",
      "Actor 08, Sad, Strong, Repetition 01     Actor_08 None       0.4259   Correctly Rejected (Imposter)\n",
      "Actor 08, Sad, Strong, Repetition 01     Actor_08 None       0.4571   Correctly Rejected (Imposter)\n",
      "Actor 08, Angry, Normal, Repetition 01   Actor_08 None       0.4616   Correctly Rejected (Imposter)\n",
      "Actor 08, Fearful, Strong, Repetition 01 Actor_08 None       0.4621   Correctly Rejected (Imposter)\n",
      "Actor 08, Disgust, Strong, Repetition 01 Actor_08 None       0.4248   Correctly Rejected (Imposter)\n"
     ]
    },
    {
     "name": "stderr",
     "output_type": "stream",
     "text": [
      "\r",
      "Testing All Unknown Actors:  11%|██████                                                 | 2/18 [00:22<02:57, 11.11s/it]"
     ]
    },
    {
     "name": "stdout",
     "output_type": "stream",
     "text": [
      "Actor 08, Surprised, Strong, Repetition 01 Actor_08 None       0.4139   Correctly Rejected (Imposter)\n"
     ]
    },
    {
     "name": "stderr",
     "output_type": "stream",
     "text": [
      "Testing All Unknown Actors:  22%|████████████▏                                          | 4/18 [00:48<02:55, 12.56s/it]"
     ]
    },
    {
     "name": "stdout",
     "output_type": "stream",
     "text": [
      "Actor 11, Neutral, Normal, Repetition 01 Actor_11 None       0.4320   Correctly Rejected (Imposter)\n",
      "Actor 11, Neutral, Normal, Repetition 01 Actor_11 None       0.4652   Correctly Rejected (Imposter)\n",
      "Actor 11, Calm, Normal, Repetition 01    Actor_11 None       0.4223   Correctly Rejected (Imposter)\n",
      "Actor 11, Calm, Normal, Repetition 01    Actor_11 None       0.4670   Correctly Rejected (Imposter)\n",
      "Actor 11, Calm, Strong, Repetition 01    Actor_11 None       0.4490   Correctly Rejected (Imposter)\n",
      "Actor 11, Happy, Normal, Repetition 01   Actor_11 None       0.4868   Correctly Rejected (Imposter)\n",
      "Actor 11, Happy, Strong, Repetition 01   Actor_11 None       0.4222   Correctly Rejected (Imposter)\n",
      "Actor 11, Sad, Normal, Repetition 01     Actor_11 Actor_01   0.5737   False Acceptance\n",
      "Actor 11, Sad, Normal, Repetition 01     Actor_11 Actor_01   0.5300   False Acceptance\n",
      "Actor 11, Angry, Strong, Repetition 01   Actor_11 None       0.4261   Correctly Rejected (Imposter)\n",
      "Actor 11, Angry, Strong, Repetition 01   Actor_11 None       0.4292   Correctly Rejected (Imposter)\n",
      "Actor 11, Fearful, Normal, Repetition 01 Actor_11 None       0.4445   Correctly Rejected (Imposter)\n",
      "Actor 11, Fearful, Normal, Repetition 01 Actor_11 None       0.4337   Correctly Rejected (Imposter)\n",
      "Actor 11, Disgust, Strong, Repetition 01 Actor_11 None       0.4064   Correctly Rejected (Imposter)\n"
     ]
    },
    {
     "name": "stderr",
     "output_type": "stream",
     "text": [
      "Testing All Unknown Actors:  33%|██████████████████▎                                    | 6/18 [01:15<02:37, 13.17s/it]"
     ]
    },
    {
     "name": "stdout",
     "output_type": "stream",
     "text": [
      "Actor 13, Angry, Strong, Repetition 01   Actor_13 None       0.4181   Correctly Rejected (Imposter)\n",
      "Actor 13, Fearful, Strong, Repetition 01 Actor_13 Actor_03   0.5076   False Acceptance\n"
     ]
    },
    {
     "name": "stderr",
     "output_type": "stream",
     "text": [
      "\r",
      "Testing All Unknown Actors:  39%|█████████████████████▍                                 | 7/18 [01:27<02:19, 12.66s/it]"
     ]
    },
    {
     "name": "stdout",
     "output_type": "stream",
     "text": [
      "Actor 14, Neutral, Normal, Repetition 01 Actor_14 None       0.4719   Correctly Rejected (Imposter)\n",
      "Actor 14, Neutral, Normal, Repetition 01 Actor_14 None       0.4100   Correctly Rejected (Imposter)\n",
      "Actor 14, Calm, Strong, Repetition 01    Actor_14 None       0.4210   Correctly Rejected (Imposter)\n",
      "Actor 14, Happy, Normal, Repetition 01   Actor_14 None       0.4309   Correctly Rejected (Imposter)\n",
      "Actor 14, Angry, Normal, Repetition 01   Actor_14 None       0.4108   Correctly Rejected (Imposter)\n",
      "Actor 14, Surprised, Normal, Repetition 01 Actor_14 Actor_04   0.5132   False Acceptance\n",
      "Actor 14, Surprised, Normal, Repetition 01 Actor_14 None       0.4700   Correctly Rejected (Imposter)\n"
     ]
    },
    {
     "name": "stderr",
     "output_type": "stream",
     "text": [
      "\r",
      "Testing All Unknown Actors:  44%|████████████████████████▍                              | 8/18 [01:40<02:07, 12.78s/it]"
     ]
    },
    {
     "name": "stdout",
     "output_type": "stream",
     "text": [
      "Actor 14, Surprised, Strong, Repetition 01 Actor_14 None       0.4021   Correctly Rejected (Imposter)\n"
     ]
    },
    {
     "name": "stderr",
     "output_type": "stream",
     "text": [
      "Testing All Unknown Actors:  56%|██████████████████████████████                        | 10/18 [02:05<01:42, 12.80s/it]"
     ]
    },
    {
     "name": "stdout",
     "output_type": "stream",
     "text": [
      "Actor 17, Fearful, Strong, Repetition 01 Actor_17 None       0.4265   Correctly Rejected (Imposter)\n",
      "Actor 17, Fearful, Strong, Repetition 01 Actor_17 None       0.4299   Correctly Rejected (Imposter)\n"
     ]
    },
    {
     "name": "stderr",
     "output_type": "stream",
     "text": [
      "\r",
      "Testing All Unknown Actors:  61%|█████████████████████████████████                     | 11/18 [02:18<01:29, 12.82s/it]"
     ]
    },
    {
     "name": "stdout",
     "output_type": "stream",
     "text": [
      "Actor 18, Calm, Normal, Repetition 01    Actor_18 None       0.4254   Correctly Rejected (Imposter)\n",
      "Actor 18, Sad, Strong, Repetition 01     Actor_18 None       0.4011   Correctly Rejected (Imposter)\n",
      "Actor 18, Angry, Normal, Repetition 01   Actor_18 None       0.4103   Correctly Rejected (Imposter)\n",
      "Actor 18, Angry, Normal, Repetition 01   Actor_18 None       0.4317   Correctly Rejected (Imposter)\n",
      "Actor 18, Disgust, Strong, Repetition 01 Actor_18 None       0.4722   Correctly Rejected (Imposter)\n",
      "Actor 18, Surprised, Strong, Repetition 01 Actor_18 None       0.4274   Correctly Rejected (Imposter)\n"
     ]
    },
    {
     "name": "stderr",
     "output_type": "stream",
     "text": [
      "\r",
      "Testing All Unknown Actors:  67%|████████████████████████████████████                  | 12/18 [02:31<01:16, 12.73s/it]"
     ]
    },
    {
     "name": "stdout",
     "output_type": "stream",
     "text": [
      "Actor 18, Surprised, Strong, Repetition 01 Actor_18 None       0.4750   Correctly Rejected (Imposter)\n",
      "Actor 19, Neutral, Normal, Repetition 01 Actor_19 Actor_01   0.5439   False Acceptance\n",
      "Actor 19, Neutral, Normal, Repetition 01 Actor_19 None       0.4637   Correctly Rejected (Imposter)\n",
      "Actor 19, Calm, Normal, Repetition 01    Actor_19 None       0.4068   Correctly Rejected (Imposter)\n",
      "Actor 19, Calm, Normal, Repetition 01    Actor_19 None       0.4840   Correctly Rejected (Imposter)\n",
      "Actor 19, Calm, Strong, Repetition 01    Actor_19 None       0.4028   Correctly Rejected (Imposter)\n",
      "Actor 19, Happy, Normal, Repetition 01   Actor_19 None       0.4353   Correctly Rejected (Imposter)\n",
      "Actor 19, Happy, Strong, Repetition 01   Actor_19 None       0.4473   Correctly Rejected (Imposter)\n",
      "Actor 19, Surprised, Normal, Repetition 01 Actor_19 None       0.4380   Correctly Rejected (Imposter)\n",
      "Actor 19, Surprised, Strong, Repetition 01 Actor_19 None       0.4834   Correctly Rejected (Imposter)\n"
     ]
    },
    {
     "name": "stderr",
     "output_type": "stream",
     "text": [
      "\r",
      "Testing All Unknown Actors:  72%|███████████████████████████████████████               | 13/18 [02:44<01:05, 13.00s/it]"
     ]
    },
    {
     "name": "stdout",
     "output_type": "stream",
     "text": [
      "Actor 20, Neutral, Normal, Repetition 01 Actor_20 None       0.4035   Correctly Rejected (Imposter)\n",
      "Actor 20, Happy, Normal, Repetition 01   Actor_20 None       0.4185   Correctly Rejected (Imposter)\n",
      "Actor 20, Sad, Normal, Repetition 01     Actor_20 None       0.4028   Correctly Rejected (Imposter)\n",
      "Actor 20, Sad, Normal, Repetition 01     Actor_20 None       0.4110   Correctly Rejected (Imposter)\n",
      "Actor 20, Fearful, Normal, Repetition 01 Actor_20 None       0.4074   Correctly Rejected (Imposter)\n",
      "Actor 20, Disgust, Strong, Repetition 01 Actor_20 None       0.4182   Correctly Rejected (Imposter)\n"
     ]
    },
    {
     "name": "stderr",
     "output_type": "stream",
     "text": [
      "\r",
      "Testing All Unknown Actors:  78%|██████████████████████████████████████████            | 14/18 [02:57<00:51, 12.78s/it]"
     ]
    },
    {
     "name": "stdout",
     "output_type": "stream",
     "text": [
      "Actor 21, Sad, Normal, Repetition 01     Actor_21 None       0.4341   Correctly Rejected (Imposter)\n",
      "Actor 21, Sad, Normal, Repetition 01     Actor_21 None       0.4635   Correctly Rejected (Imposter)\n",
      "Actor 21, Surprised, Normal, Repetition 01 Actor_21 None       0.4222   Correctly Rejected (Imposter)\n",
      "Actor 21, Surprised, Normal, Repetition 01 Actor_21 None       0.4013   Correctly Rejected (Imposter)\n",
      "Actor 21, Surprised, Strong, Repetition 01 Actor_21 None       0.4448   Correctly Rejected (Imposter)\n"
     ]
    },
    {
     "name": "stderr",
     "output_type": "stream",
     "text": [
      "\r",
      "Testing All Unknown Actors:  83%|█████████████████████████████████████████████         | 15/18 [03:09<00:38, 12.74s/it]"
     ]
    },
    {
     "name": "stdout",
     "output_type": "stream",
     "text": [
      "Actor 21, Surprised, Strong, Repetition 01 Actor_21 None       0.4106   Correctly Rejected (Imposter)\n"
     ]
    },
    {
     "name": "stderr",
     "output_type": "stream",
     "text": [
      "\r",
      "Testing All Unknown Actors:  89%|████████████████████████████████████████████████      | 16/18 [03:21<00:24, 12.47s/it]"
     ]
    },
    {
     "name": "stdout",
     "output_type": "stream",
     "text": [
      "Actor 23, Neutral, Normal, Repetition 01 Actor_23 Actor_01   0.5640   False Acceptance\n",
      "Actor 23, Neutral, Normal, Repetition 01 Actor_23 Actor_01   0.5306   False Acceptance\n",
      "Actor 23, Calm, Normal, Repetition 01    Actor_23 Actor_01   0.5007   False Acceptance\n",
      "Actor 23, Calm, Normal, Repetition 01    Actor_23 Actor_01   0.5955   False Acceptance\n",
      "Actor 23, Calm, Strong, Repetition 01    Actor_23 Actor_01   0.5213   False Acceptance\n",
      "Actor 23, Calm, Strong, Repetition 01    Actor_23 Actor_01   0.5434   False Acceptance\n",
      "Actor 23, Happy, Normal, Repetition 01   Actor_23 Actor_01   0.6119   False Acceptance\n",
      "Actor 23, Happy, Normal, Repetition 01   Actor_23 Actor_01   0.6359   False Acceptance\n",
      "Actor 23, Happy, Strong, Repetition 01   Actor_23 Actor_01   0.5205   False Acceptance\n",
      "Actor 23, Happy, Strong, Repetition 01   Actor_23 Actor_01   0.5779   False Acceptance\n",
      "Actor 23, Sad, Normal, Repetition 01     Actor_23 Actor_01   0.5101   False Acceptance\n",
      "Actor 23, Sad, Normal, Repetition 01     Actor_23 Actor_01   0.5612   False Acceptance\n",
      "Actor 23, Sad, Strong, Repetition 01     Actor_23 None       0.4060   Correctly Rejected (Imposter)\n",
      "Actor 23, Sad, Strong, Repetition 01     Actor_23 None       0.4365   Correctly Rejected (Imposter)\n",
      "Actor 23, Angry, Normal, Repetition 01   Actor_23 None       0.4981   Correctly Rejected (Imposter)\n",
      "Actor 23, Angry, Normal, Repetition 01   Actor_23 None       0.4839   Correctly Rejected (Imposter)\n",
      "Actor 23, Angry, Strong, Repetition 01   Actor_23 None       0.4254   Correctly Rejected (Imposter)\n",
      "Actor 23, Fearful, Normal, Repetition 01 Actor_23 None       0.4090   Correctly Rejected (Imposter)\n",
      "Actor 23, Fearful, Normal, Repetition 01 Actor_23 None       0.4113   Correctly Rejected (Imposter)\n",
      "Actor 23, Fearful, Strong, Repetition 01 Actor_23 None       0.4564   Correctly Rejected (Imposter)\n",
      "Actor 23, Fearful, Strong, Repetition 01 Actor_23 None       0.4694   Correctly Rejected (Imposter)\n",
      "Actor 23, Disgust, Normal, Repetition 01 Actor_23 None       0.4879   Correctly Rejected (Imposter)\n",
      "Actor 23, Disgust, Normal, Repetition 01 Actor_23 None       0.4576   Correctly Rejected (Imposter)\n",
      "Actor 23, Disgust, Strong, Repetition 01 Actor_23 Actor_01   0.5224   False Acceptance\n",
      "Actor 23, Disgust, Strong, Repetition 01 Actor_23 Actor_01   0.5447   False Acceptance\n",
      "Actor 23, Surprised, Normal, Repetition 01 Actor_23 Actor_01   0.5554   False Acceptance\n",
      "Actor 23, Surprised, Normal, Repetition 01 Actor_23 Actor_01   0.5005   False Acceptance\n",
      "Actor 23, Surprised, Strong, Repetition 01 Actor_23 Actor_01   0.5198   False Acceptance\n"
     ]
    },
    {
     "name": "stderr",
     "output_type": "stream",
     "text": [
      "\r",
      "Testing All Unknown Actors:  94%|███████████████████████████████████████████████████   | 17/18 [03:33<00:12, 12.24s/it]"
     ]
    },
    {
     "name": "stdout",
     "output_type": "stream",
     "text": [
      "Actor 23, Surprised, Strong, Repetition 01 Actor_23 Actor_01   0.5670   False Acceptance\n",
      "Actor 24, Fearful, Strong, Repetition 01 Actor_24 None       0.4751   Correctly Rejected (Imposter)\n"
     ]
    },
    {
     "name": "stderr",
     "output_type": "stream",
     "text": [
      "Testing All Unknown Actors: 100%|██████████████████████████████████████████████████████| 18/18 [03:46<00:00, 12.56s/it]"
     ]
    },
    {
     "name": "stdout",
     "output_type": "stream",
     "text": [
      "\n",
      "--- Summary for All Unknown Speaker Tests (Actors 07-24) ---\n",
      "Total Unknown Speaker Trials: 540\n",
      "Correct Imposter Rejections: 517\n",
      "False Acceptances (Unknown speaker identified as enrolled): 23\n",
      "\n",
      "False Acceptance Score Statistics:\n",
      "  Min FA Score: 0.5005\n",
      "  Mean FA Score: 0.5457\n",
      "  Max FA Score: 0.6359\n",
      "\n",
      "Details of False Acceptances (All FAs listed regardless of score):\n",
      "Filename        File Details                             True     Identified Score   \n",
      "-----------------------------------------------------------------------------------------------\n",
      "03-01-04-01-01-01-11.wav Actor 11, Sad, Normal, Repetition 01     Actor_11 Actor_01   0.5737  \n",
      "03-01-04-01-01-02-11.wav Actor 11, Sad, Normal, Repetition 01     Actor_11 Actor_01   0.5300  \n",
      "03-01-06-02-01-02-13.wav Actor 13, Fearful, Strong, Repetition 01 Actor_13 Actor_03   0.5076  \n",
      "03-01-08-01-01-01-14.wav Actor 14, Surprised, Normal, Repetition 01 Actor_14 Actor_04   0.5132  \n",
      "03-01-01-01-01-01-19.wav Actor 19, Neutral, Normal, Repetition 01 Actor_19 Actor_01   0.5439  \n",
      "03-01-01-01-01-01-23.wav Actor 23, Neutral, Normal, Repetition 01 Actor_23 Actor_01   0.5640  \n",
      "03-01-01-01-01-02-23.wav Actor 23, Neutral, Normal, Repetition 01 Actor_23 Actor_01   0.5306  \n",
      "03-01-02-01-01-01-23.wav Actor 23, Calm, Normal, Repetition 01    Actor_23 Actor_01   0.5007  \n",
      "03-01-02-01-01-02-23.wav Actor 23, Calm, Normal, Repetition 01    Actor_23 Actor_01   0.5955  \n",
      "03-01-02-02-01-01-23.wav Actor 23, Calm, Strong, Repetition 01    Actor_23 Actor_01   0.5213  \n",
      "03-01-02-02-01-02-23.wav Actor 23, Calm, Strong, Repetition 01    Actor_23 Actor_01   0.5434  \n",
      "03-01-03-01-01-01-23.wav Actor 23, Happy, Normal, Repetition 01   Actor_23 Actor_01   0.6119  \n",
      "03-01-03-01-01-02-23.wav Actor 23, Happy, Normal, Repetition 01   Actor_23 Actor_01   0.6359  \n",
      "03-01-03-02-01-01-23.wav Actor 23, Happy, Strong, Repetition 01   Actor_23 Actor_01   0.5205  \n",
      "03-01-03-02-01-02-23.wav Actor 23, Happy, Strong, Repetition 01   Actor_23 Actor_01   0.5779  \n",
      "03-01-04-01-01-01-23.wav Actor 23, Sad, Normal, Repetition 01     Actor_23 Actor_01   0.5101  \n",
      "03-01-04-01-01-02-23.wav Actor 23, Sad, Normal, Repetition 01     Actor_23 Actor_01   0.5612  \n",
      "03-01-07-02-01-01-23.wav Actor 23, Disgust, Strong, Repetition 01 Actor_23 Actor_01   0.5224  \n",
      "03-01-07-02-01-02-23.wav Actor 23, Disgust, Strong, Repetition 01 Actor_23 Actor_01   0.5447  \n",
      "03-01-08-01-01-01-23.wav Actor 23, Surprised, Normal, Repetition 01 Actor_23 Actor_01   0.5554  \n",
      "03-01-08-01-01-02-23.wav Actor 23, Surprised, Normal, Repetition 01 Actor_23 Actor_01   0.5005  \n",
      "03-01-08-02-01-01-23.wav Actor 23, Surprised, Strong, Repetition 01 Actor_23 Actor_01   0.5198  \n",
      "03-01-08-02-01-02-23.wav Actor 23, Surprised, Strong, Repetition 01 Actor_23 Actor_01   0.5670  \n"
     ]
    },
    {
     "name": "stderr",
     "output_type": "stream",
     "text": [
      "\n"
     ]
    }
   ],
   "source": [
    "print(\"\\n--- Testing on UNKNOWN Speakers (Actors 07-24) with Full RAVDESS Criteria ---\")\n",
    "\n",
    "# Define ALL unenrolled actors\n",
    "ALL_UNENROLLED_ACTORS = [f\"Actor_{i:02d}\" for i in range(7, 25)]\n",
    "\n",
    "identification_threshold = 0.5\n",
    "print(f\"Using identification threshold: {identification_threshold:.4f}\")\n",
    "\n",
    "UNKNOWN_TEST_STATEMENT_ID = '01'\n",
    "UNKNOWN_TEST_EMOTION_IDS = ['01', '02', '03', '04', '05', '06', '07', '08'] # All 8 emotions\n",
    "UNKNOWN_TEST_REPETITION_IDS = ['01', '02'] # Both repetitions\n",
    "\n",
    "unknown_actor_data_full = {}\n",
    "print(\"\\nCollecting unknown speaker audio files based on new criteria...\")\n",
    "for actor_id_num in tqdm(range(7, 25), desc=\"Collecting Unknown Actor Files\"):\n",
    "    actor_folder = f\"Actor_{actor_id_num:02d}\"\n",
    "    actor_full_path = os.path.join(RAVDESS_PATH, actor_folder)\n",
    "\n",
    "    actor_files_test = [] \n",
    "\n",
    "    if not os.path.exists(actor_full_path):\n",
    "        continue\n",
    "\n",
    "    for filename in os.listdir(actor_full_path):\n",
    "        if not filename.endswith('.wav'):\n",
    "            continue\n",
    "        \n",
    "        parts = filename.split('-')\n",
    "        if len(parts) < 7: \n",
    "            continue\n",
    "\n",
    "        modality, vocal_channel, emotion_code, intensity_code, statement_code, repetition_code, actor_num_str = \\\n",
    "            parts[0], parts[1], parts[2], parts[3], parts[4], parts[5], parts[6].split('.')[0]\n",
    "        \n",
    "        is_speech = (modality == '03' and vocal_channel == '01') # Audio-only speech\n",
    "        is_statement_1 = (statement_code == UNKNOWN_TEST_STATEMENT_ID)\n",
    "        is_valid_emotion = (emotion_code in UNKNOWN_TEST_EMOTION_IDS)\n",
    "        is_valid_repetition = (repetition_code in UNKNOWN_TEST_REPETITION_IDS)\n",
    "\n",
    "        is_valid_intensity = False\n",
    "        if emotion_code == '01': # Neutral emotion (01) must be normal intensity (01)\n",
    "            if intensity_code == '01':\n",
    "                is_valid_intensity = True\n",
    "        else: \n",
    "            if intensity_code in ['01', '02']:\n",
    "                is_valid_intensity = True\n",
    "\n",
    "        if (is_speech and is_statement_1 and is_valid_emotion and \n",
    "            is_valid_intensity and is_valid_repetition):\n",
    "            \n",
    "            full_file_path = os.path.join(actor_full_path, filename)\n",
    "            actor_files_test.append(full_file_path)\n",
    "\n",
    "    unknown_actor_data_full[f\"Actor_{actor_id_num:02d}\"] = {'test_files': actor_files_test}\n",
    "\n",
    "\n",
    "imposter_rejections_total = 0\n",
    "false_acceptances_total = 0 \n",
    "false_acceptance_details = [] \n",
    "\n",
    "print(\"\\nProcessing all unknown speaker test files with new criteria...\")\n",
    "\n",
    "printed_header_for_details = False\n",
    "\n",
    "for true_actor_id, data in tqdm(unknown_actor_data_full.items(), desc=\"Testing All Unknown Actors\"):\n",
    "    if not data['test_files']:\n",
    "        continue\n",
    "\n",
    "    for test_file_path in data['test_files']:\n",
    "        identified_id, score = identify_speaker(test_file_path, enrolled_voiceprints, threshold=identification_threshold)\n",
    "        \n",
    "        file_details = parse_ravdess_filename(test_file_path)\n",
    "        filename_only = os.path.basename(test_file_path)\n",
    "        \n",
    "        status_text = \"\"\n",
    "        is_false_acceptance = False\n",
    "        if identified_id is not None: # If it was identified as someone (not None)\n",
    "            false_acceptances_total += 1\n",
    "            false_acceptance_details.append({\n",
    "                'file_details': file_details,\n",
    "                'filename': filename_only,\n",
    "                'true_actor': true_actor_id,\n",
    "                'identified_as': identified_id,\n",
    "                'score': score\n",
    "            })\n",
    "            is_false_acceptance = True\n",
    "            status_text = \"False Acceptance\"\n",
    "        else:\n",
    "            imposter_rejections_total += 1\n",
    "            status_text = \"Correctly Rejected (Imposter)\"\n",
    "        \n",
    "        # Print correctly rejected cases ONLY if score > 0.4 and all False Acceptances\n",
    "        if is_false_acceptance or (not is_false_acceptance and score > 0.4):\n",
    "            if not printed_header_for_details:\n",
    "\n",
    "                print(f\"{'File Details':<40} {'True':<8} {'Identified':<10} {'Score':<8} {'Status'}\")\n",
    "                print(\"-\" * 80)\n",
    "                printed_header_for_details = True\n",
    "            \n",
    "            print(f\"{file_details:<40} {true_actor_id:<8} {str(identified_id):<10} {score:<8.4f} {status_text}\")\n",
    "\n",
    "\n",
    "print(\"\\n--- Summary for All Unknown Speaker Tests (Actors 07-24) ---\")\n",
    "print(f\"Total Unknown Speaker Trials: {imposter_rejections_total + false_acceptances_total}\")\n",
    "print(f\"Correct Imposter Rejections: {imposter_rejections_total}\")\n",
    "print(f\"False Acceptances (Unknown speaker identified as enrolled): {false_acceptances_total}\")\n",
    "\n",
    "if false_acceptances_total > 0:\n",
    "    fa_scores = [d['score'] for d in false_acceptance_details]\n",
    "    print(\"\\nFalse Acceptance Score Statistics:\")\n",
    "    print(f\"  Min FA Score: {np.min(fa_scores):.4f}\")\n",
    "    print(f\"  Mean FA Score: {np.mean(fa_scores):.4f}\")\n",
    "    print(f\"  Max FA Score: {np.max(fa_scores):.4f}\")\n",
    "    \n",
    "    print(\"\\nDetails of False Acceptances (All FAs listed regardless of score):\")\n",
    "\n",
    "    print(f\"{'Filename':<15} {'File Details':<40} {'True':<8} {'Identified':<10} {'Score':<8}\")\n",
    "    print(\"-\" * 95)\n",
    "    for detail in false_acceptance_details:\n",
    "\n",
    "        print(f\"{detail['filename']:<15} {detail['file_details']:<40} {detail['true_actor']:<8} {detail['identified_as']:<10} {detail['score']:<8.4f}\")\n",
    "else:\n",
    "    print(\"\\nNo False Acceptances detected. Excellent imposter rejection for all tested unknown speakers!\")"
   ]
  },
  {
   "cell_type": "markdown",
   "id": "26077bce",
   "metadata": {},
   "source": [
    "* The model seems to confuse Actor 1 and Actor 23. It confuses other actors as well, but with a lower margin.\n",
    "* The model has 95.7% accuracy on unseen actors.\n",
    "* The detection threshold can be adjusted to prioritize eliminating False Acceptances."
   ]
  },
  {
   "cell_type": "code",
   "execution_count": null,
   "id": "89971100",
   "metadata": {},
   "outputs": [],
   "source": []
  }
 ],
 "metadata": {
  "kernelspec": {
   "display_name": "Python 3 (ipykernel)",
   "language": "python",
   "name": "python3"
  },
  "language_info": {
   "codemirror_mode": {
    "name": "ipython",
    "version": 3
   },
   "file_extension": ".py",
   "mimetype": "text/x-python",
   "name": "python",
   "nbconvert_exporter": "python",
   "pygments_lexer": "ipython3",
   "version": "3.11.11"
  }
 },
 "nbformat": 4,
 "nbformat_minor": 5
}
