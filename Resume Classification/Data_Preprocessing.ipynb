{
 "cells": [
  {
   "cell_type": "markdown",
   "id": "20ddaac3",
   "metadata": {},
   "source": [
    "# Datasets\n",
    "\n",
    "Rana, R. S. (2023). Job Description Dataset. Kaggle. \n",
    "\n",
    "https://www.kaggle.com/datasets/ravindrasinghrana/job-description-dataset\n",
    "\n",
    "Bhawal, S. (2023). Resume Dataset. Kaggle. \n",
    "\n",
    "https://www.kaggle.com/datasets/snehaanbhawal/resume-dataset"
   ]
  },
  {
   "cell_type": "code",
   "execution_count": 1,
   "id": "2e9dc4c1",
   "metadata": {},
   "outputs": [],
   "source": [
    "import pandas as pd\n",
    "import numpy as np"
   ]
  },
  {
   "cell_type": "code",
   "execution_count": 2,
   "id": "ca865e81",
   "metadata": {},
   "outputs": [],
   "source": [
    "job_data_path = r\"D:\\Data_and_AI\\Datasets\\Job Description Dataset\\job_descriptions.csv\"\n",
    "resume_data_path = r\"D:\\Data_and_AI\\Datasets\\Resume Classification Dataset\\dataset.csv\""
   ]
  },
  {
   "cell_type": "code",
   "execution_count": 3,
   "id": "3a792a30",
   "metadata": {
    "scrolled": false
   },
   "outputs": [
    {
     "data": {
      "text/html": [
       "<div>\n",
       "<style scoped>\n",
       "    .dataframe tbody tr th:only-of-type {\n",
       "        vertical-align: middle;\n",
       "    }\n",
       "\n",
       "    .dataframe tbody tr th {\n",
       "        vertical-align: top;\n",
       "    }\n",
       "\n",
       "    .dataframe thead th {\n",
       "        text-align: right;\n",
       "    }\n",
       "</style>\n",
       "<table border=\"1\" class=\"dataframe\">\n",
       "  <thead>\n",
       "    <tr style=\"text-align: right;\">\n",
       "      <th></th>\n",
       "      <th>Job Id</th>\n",
       "      <th>Experience</th>\n",
       "      <th>Qualifications</th>\n",
       "      <th>Salary Range</th>\n",
       "      <th>location</th>\n",
       "      <th>Country</th>\n",
       "      <th>latitude</th>\n",
       "      <th>longitude</th>\n",
       "      <th>Work Type</th>\n",
       "      <th>Company Size</th>\n",
       "      <th>...</th>\n",
       "      <th>Contact</th>\n",
       "      <th>Job Title</th>\n",
       "      <th>Role</th>\n",
       "      <th>Job Portal</th>\n",
       "      <th>Job Description</th>\n",
       "      <th>Benefits</th>\n",
       "      <th>skills</th>\n",
       "      <th>Responsibilities</th>\n",
       "      <th>Company</th>\n",
       "      <th>Company Profile</th>\n",
       "    </tr>\n",
       "  </thead>\n",
       "  <tbody>\n",
       "    <tr>\n",
       "      <th>0</th>\n",
       "      <td>1089843540111562</td>\n",
       "      <td>5 to 15 Years</td>\n",
       "      <td>M.Tech</td>\n",
       "      <td>$59K-$99K</td>\n",
       "      <td>Douglas</td>\n",
       "      <td>Isle of Man</td>\n",
       "      <td>54.2361</td>\n",
       "      <td>-4.5481</td>\n",
       "      <td>Intern</td>\n",
       "      <td>26801</td>\n",
       "      <td>...</td>\n",
       "      <td>001-381-930-7517x737</td>\n",
       "      <td>Digital Marketing Specialist</td>\n",
       "      <td>Social Media Manager</td>\n",
       "      <td>Snagajob</td>\n",
       "      <td>Social Media Managers oversee an organizations...</td>\n",
       "      <td>{'Flexible Spending Accounts (FSAs), Relocatio...</td>\n",
       "      <td>Social media platforms (e.g., Facebook, Twitte...</td>\n",
       "      <td>Manage and grow social media accounts, create ...</td>\n",
       "      <td>Icahn Enterprises</td>\n",
       "      <td>{\"Sector\":\"Diversified\",\"Industry\":\"Diversifie...</td>\n",
       "    </tr>\n",
       "    <tr>\n",
       "      <th>1</th>\n",
       "      <td>398454096642776</td>\n",
       "      <td>2 to 12 Years</td>\n",
       "      <td>BCA</td>\n",
       "      <td>$56K-$116K</td>\n",
       "      <td>Ashgabat</td>\n",
       "      <td>Turkmenistan</td>\n",
       "      <td>38.9697</td>\n",
       "      <td>59.5563</td>\n",
       "      <td>Intern</td>\n",
       "      <td>100340</td>\n",
       "      <td>...</td>\n",
       "      <td>461-509-4216</td>\n",
       "      <td>Web Developer</td>\n",
       "      <td>Frontend Web Developer</td>\n",
       "      <td>Idealist</td>\n",
       "      <td>Frontend Web Developers design and implement u...</td>\n",
       "      <td>{'Health Insurance, Retirement Plans, Paid Tim...</td>\n",
       "      <td>HTML, CSS, JavaScript Frontend frameworks (e.g...</td>\n",
       "      <td>Design and code user interfaces for websites, ...</td>\n",
       "      <td>PNC Financial Services Group</td>\n",
       "      <td>{\"Sector\":\"Financial Services\",\"Industry\":\"Com...</td>\n",
       "    </tr>\n",
       "    <tr>\n",
       "      <th>2</th>\n",
       "      <td>481640072963533</td>\n",
       "      <td>0 to 12 Years</td>\n",
       "      <td>PhD</td>\n",
       "      <td>$61K-$104K</td>\n",
       "      <td>Macao</td>\n",
       "      <td>Macao SAR, China</td>\n",
       "      <td>22.1987</td>\n",
       "      <td>113.5439</td>\n",
       "      <td>Temporary</td>\n",
       "      <td>84525</td>\n",
       "      <td>...</td>\n",
       "      <td>9687619505</td>\n",
       "      <td>Operations Manager</td>\n",
       "      <td>Quality Control Manager</td>\n",
       "      <td>Jobs2Careers</td>\n",
       "      <td>Quality Control Managers establish and enforce...</td>\n",
       "      <td>{'Legal Assistance, Bonuses and Incentive Prog...</td>\n",
       "      <td>Quality control processes and methodologies St...</td>\n",
       "      <td>Establish and enforce quality control standard...</td>\n",
       "      <td>United Services Automobile Assn.</td>\n",
       "      <td>{\"Sector\":\"Insurance\",\"Industry\":\"Insurance: P...</td>\n",
       "    </tr>\n",
       "    <tr>\n",
       "      <th>3</th>\n",
       "      <td>688192671473044</td>\n",
       "      <td>4 to 11 Years</td>\n",
       "      <td>PhD</td>\n",
       "      <td>$65K-$91K</td>\n",
       "      <td>Porto-Novo</td>\n",
       "      <td>Benin</td>\n",
       "      <td>9.3077</td>\n",
       "      <td>2.3158</td>\n",
       "      <td>Full-Time</td>\n",
       "      <td>129896</td>\n",
       "      <td>...</td>\n",
       "      <td>+1-820-643-5431x47576</td>\n",
       "      <td>Network Engineer</td>\n",
       "      <td>Wireless Network Engineer</td>\n",
       "      <td>FlexJobs</td>\n",
       "      <td>Wireless Network Engineers design, implement, ...</td>\n",
       "      <td>{'Transportation Benefits, Professional Develo...</td>\n",
       "      <td>Wireless network design and architecture Wi-Fi...</td>\n",
       "      <td>Design, configure, and optimize wireless netwo...</td>\n",
       "      <td>Hess</td>\n",
       "      <td>{\"Sector\":\"Energy\",\"Industry\":\"Mining, Crude-O...</td>\n",
       "    </tr>\n",
       "    <tr>\n",
       "      <th>4</th>\n",
       "      <td>117057806156508</td>\n",
       "      <td>1 to 12 Years</td>\n",
       "      <td>MBA</td>\n",
       "      <td>$64K-$87K</td>\n",
       "      <td>Santiago</td>\n",
       "      <td>Chile</td>\n",
       "      <td>-35.6751</td>\n",
       "      <td>-71.5429</td>\n",
       "      <td>Intern</td>\n",
       "      <td>53944</td>\n",
       "      <td>...</td>\n",
       "      <td>343.975.4702x9340</td>\n",
       "      <td>Event Manager</td>\n",
       "      <td>Conference Manager</td>\n",
       "      <td>Jobs2Careers</td>\n",
       "      <td>A Conference Manager coordinates and manages c...</td>\n",
       "      <td>{'Flexible Spending Accounts (FSAs), Relocatio...</td>\n",
       "      <td>Event planning Conference logistics Budget man...</td>\n",
       "      <td>Specialize in conference and convention planni...</td>\n",
       "      <td>Cairn Energy</td>\n",
       "      <td>{\"Sector\":\"Energy\",\"Industry\":\"Energy - Oil &amp; ...</td>\n",
       "    </tr>\n",
       "  </tbody>\n",
       "</table>\n",
       "<p>5 rows × 23 columns</p>\n",
       "</div>"
      ],
      "text/plain": [
       "             Job Id     Experience Qualifications Salary Range    location  \\\n",
       "0  1089843540111562  5 to 15 Years         M.Tech    $59K-$99K     Douglas   \n",
       "1   398454096642776  2 to 12 Years            BCA   $56K-$116K    Ashgabat   \n",
       "2   481640072963533  0 to 12 Years            PhD   $61K-$104K       Macao   \n",
       "3   688192671473044  4 to 11 Years            PhD    $65K-$91K  Porto-Novo   \n",
       "4   117057806156508  1 to 12 Years            MBA    $64K-$87K    Santiago   \n",
       "\n",
       "            Country  latitude  longitude  Work Type  Company Size  ...  \\\n",
       "0       Isle of Man   54.2361    -4.5481     Intern         26801  ...   \n",
       "1      Turkmenistan   38.9697    59.5563     Intern        100340  ...   \n",
       "2  Macao SAR, China   22.1987   113.5439  Temporary         84525  ...   \n",
       "3             Benin    9.3077     2.3158  Full-Time        129896  ...   \n",
       "4             Chile  -35.6751   -71.5429     Intern         53944  ...   \n",
       "\n",
       "                 Contact                     Job Title  \\\n",
       "0   001-381-930-7517x737  Digital Marketing Specialist   \n",
       "1           461-509-4216                 Web Developer   \n",
       "2             9687619505            Operations Manager   \n",
       "3  +1-820-643-5431x47576              Network Engineer   \n",
       "4      343.975.4702x9340                 Event Manager   \n",
       "\n",
       "                        Role    Job Portal  \\\n",
       "0       Social Media Manager      Snagajob   \n",
       "1     Frontend Web Developer      Idealist   \n",
       "2    Quality Control Manager  Jobs2Careers   \n",
       "3  Wireless Network Engineer      FlexJobs   \n",
       "4         Conference Manager  Jobs2Careers   \n",
       "\n",
       "                                     Job Description  \\\n",
       "0  Social Media Managers oversee an organizations...   \n",
       "1  Frontend Web Developers design and implement u...   \n",
       "2  Quality Control Managers establish and enforce...   \n",
       "3  Wireless Network Engineers design, implement, ...   \n",
       "4  A Conference Manager coordinates and manages c...   \n",
       "\n",
       "                                            Benefits  \\\n",
       "0  {'Flexible Spending Accounts (FSAs), Relocatio...   \n",
       "1  {'Health Insurance, Retirement Plans, Paid Tim...   \n",
       "2  {'Legal Assistance, Bonuses and Incentive Prog...   \n",
       "3  {'Transportation Benefits, Professional Develo...   \n",
       "4  {'Flexible Spending Accounts (FSAs), Relocatio...   \n",
       "\n",
       "                                              skills  \\\n",
       "0  Social media platforms (e.g., Facebook, Twitte...   \n",
       "1  HTML, CSS, JavaScript Frontend frameworks (e.g...   \n",
       "2  Quality control processes and methodologies St...   \n",
       "3  Wireless network design and architecture Wi-Fi...   \n",
       "4  Event planning Conference logistics Budget man...   \n",
       "\n",
       "                                    Responsibilities  \\\n",
       "0  Manage and grow social media accounts, create ...   \n",
       "1  Design and code user interfaces for websites, ...   \n",
       "2  Establish and enforce quality control standard...   \n",
       "3  Design, configure, and optimize wireless netwo...   \n",
       "4  Specialize in conference and convention planni...   \n",
       "\n",
       "                            Company  \\\n",
       "0                 Icahn Enterprises   \n",
       "1      PNC Financial Services Group   \n",
       "2  United Services Automobile Assn.   \n",
       "3                              Hess   \n",
       "4                      Cairn Energy   \n",
       "\n",
       "                                     Company Profile  \n",
       "0  {\"Sector\":\"Diversified\",\"Industry\":\"Diversifie...  \n",
       "1  {\"Sector\":\"Financial Services\",\"Industry\":\"Com...  \n",
       "2  {\"Sector\":\"Insurance\",\"Industry\":\"Insurance: P...  \n",
       "3  {\"Sector\":\"Energy\",\"Industry\":\"Mining, Crude-O...  \n",
       "4  {\"Sector\":\"Energy\",\"Industry\":\"Energy - Oil & ...  \n",
       "\n",
       "[5 rows x 23 columns]"
      ]
     },
     "execution_count": 3,
     "metadata": {},
     "output_type": "execute_result"
    }
   ],
   "source": [
    "job_df= pd.read_csv(job_data_path)\n",
    "job_df.head()"
   ]
  },
  {
   "cell_type": "code",
   "execution_count": 4,
   "id": "069f8025",
   "metadata": {},
   "outputs": [
    {
     "data": {
      "text/plain": [
       "(1615940, 23)"
      ]
     },
     "execution_count": 4,
     "metadata": {},
     "output_type": "execute_result"
    }
   ],
   "source": [
    "job_df.shape"
   ]
  },
  {
   "cell_type": "code",
   "execution_count": 5,
   "id": "fd4aefad",
   "metadata": {},
   "outputs": [
    {
     "data": {
      "text/plain": [
       "Index(['Job Id', 'Experience', 'Qualifications', 'Salary Range', 'location',\n",
       "       'Country', 'latitude', 'longitude', 'Work Type', 'Company Size',\n",
       "       'Job Posting Date', 'Preference', 'Contact Person', 'Contact',\n",
       "       'Job Title', 'Role', 'Job Portal', 'Job Description', 'Benefits',\n",
       "       'skills', 'Responsibilities', 'Company', 'Company Profile'],\n",
       "      dtype='object')"
      ]
     },
     "execution_count": 5,
     "metadata": {},
     "output_type": "execute_result"
    }
   ],
   "source": [
    "job_df.columns"
   ]
  },
  {
   "cell_type": "code",
   "execution_count": 6,
   "id": "141a540d",
   "metadata": {},
   "outputs": [
    {
     "data": {
      "text/html": [
       "<div>\n",
       "<style scoped>\n",
       "    .dataframe tbody tr th:only-of-type {\n",
       "        vertical-align: middle;\n",
       "    }\n",
       "\n",
       "    .dataframe tbody tr th {\n",
       "        vertical-align: top;\n",
       "    }\n",
       "\n",
       "    .dataframe thead th {\n",
       "        text-align: right;\n",
       "    }\n",
       "</style>\n",
       "<table border=\"1\" class=\"dataframe\">\n",
       "  <thead>\n",
       "    <tr style=\"text-align: right;\">\n",
       "      <th></th>\n",
       "      <th>ID</th>\n",
       "      <th>Resume_str</th>\n",
       "      <th>Resume_html</th>\n",
       "      <th>Category</th>\n",
       "    </tr>\n",
       "  </thead>\n",
       "  <tbody>\n",
       "    <tr>\n",
       "      <th>0</th>\n",
       "      <td>16852973</td>\n",
       "      <td>HR ADMINISTRATOR/MARKETING ASSOCIATE\\...</td>\n",
       "      <td>&lt;div class=\"fontsize fontface vmargins hmargin...</td>\n",
       "      <td>HR</td>\n",
       "    </tr>\n",
       "    <tr>\n",
       "      <th>1</th>\n",
       "      <td>22323967</td>\n",
       "      <td>HR SPECIALIST, US HR OPERATIONS      ...</td>\n",
       "      <td>&lt;div class=\"fontsize fontface vmargins hmargin...</td>\n",
       "      <td>HR</td>\n",
       "    </tr>\n",
       "    <tr>\n",
       "      <th>2</th>\n",
       "      <td>33176873</td>\n",
       "      <td>HR DIRECTOR       Summary      Over 2...</td>\n",
       "      <td>&lt;div class=\"fontsize fontface vmargins hmargin...</td>\n",
       "      <td>HR</td>\n",
       "    </tr>\n",
       "    <tr>\n",
       "      <th>3</th>\n",
       "      <td>27018550</td>\n",
       "      <td>HR SPECIALIST       Summary    Dedica...</td>\n",
       "      <td>&lt;div class=\"fontsize fontface vmargins hmargin...</td>\n",
       "      <td>HR</td>\n",
       "    </tr>\n",
       "    <tr>\n",
       "      <th>4</th>\n",
       "      <td>17812897</td>\n",
       "      <td>HR MANAGER         Skill Highlights  ...</td>\n",
       "      <td>&lt;div class=\"fontsize fontface vmargins hmargin...</td>\n",
       "      <td>HR</td>\n",
       "    </tr>\n",
       "  </tbody>\n",
       "</table>\n",
       "</div>"
      ],
      "text/plain": [
       "         ID                                         Resume_str  \\\n",
       "0  16852973           HR ADMINISTRATOR/MARKETING ASSOCIATE\\...   \n",
       "1  22323967           HR SPECIALIST, US HR OPERATIONS      ...   \n",
       "2  33176873           HR DIRECTOR       Summary      Over 2...   \n",
       "3  27018550           HR SPECIALIST       Summary    Dedica...   \n",
       "4  17812897           HR MANAGER         Skill Highlights  ...   \n",
       "\n",
       "                                         Resume_html Category  \n",
       "0  <div class=\"fontsize fontface vmargins hmargin...       HR  \n",
       "1  <div class=\"fontsize fontface vmargins hmargin...       HR  \n",
       "2  <div class=\"fontsize fontface vmargins hmargin...       HR  \n",
       "3  <div class=\"fontsize fontface vmargins hmargin...       HR  \n",
       "4  <div class=\"fontsize fontface vmargins hmargin...       HR  "
      ]
     },
     "execution_count": 6,
     "metadata": {},
     "output_type": "execute_result"
    }
   ],
   "source": [
    "res_df = pd.read_csv(resume_data_path)\n",
    "res_df.head()"
   ]
  },
  {
   "cell_type": "code",
   "execution_count": 7,
   "id": "067659f3",
   "metadata": {},
   "outputs": [
    {
     "data": {
      "text/plain": [
       "(2484, 4)"
      ]
     },
     "execution_count": 7,
     "metadata": {},
     "output_type": "execute_result"
    }
   ],
   "source": [
    "res_df.shape"
   ]
  },
  {
   "cell_type": "code",
   "execution_count": 8,
   "id": "995862ba",
   "metadata": {},
   "outputs": [
    {
     "data": {
      "text/plain": [
       "Index(['ID', 'Resume_str', 'Resume_html', 'Category'], dtype='object')"
      ]
     },
     "execution_count": 8,
     "metadata": {},
     "output_type": "execute_result"
    }
   ],
   "source": [
    "res_df.columns"
   ]
  },
  {
   "cell_type": "code",
   "execution_count": 9,
   "id": "459fcc55",
   "metadata": {},
   "outputs": [
    {
     "data": {
      "text/plain": [
       "array(['HR', 'DESIGNER', 'INFORMATION-TECHNOLOGY', 'TEACHER', 'ADVOCATE',\n",
       "       'BUSINESS-DEVELOPMENT', 'HEALTHCARE', 'FITNESS', 'AGRICULTURE',\n",
       "       'BPO', 'SALES', 'CONSULTANT', 'DIGITAL-MEDIA', 'AUTOMOBILE',\n",
       "       'CHEF', 'FINANCE', 'APPAREL', 'ENGINEERING', 'ACCOUNTANT',\n",
       "       'CONSTRUCTION', 'PUBLIC-RELATIONS', 'BANKING', 'ARTS', 'AVIATION'],\n",
       "      dtype=object)"
      ]
     },
     "execution_count": 9,
     "metadata": {},
     "output_type": "execute_result"
    }
   ],
   "source": [
    "res_df['Category'].unique()"
   ]
  },
  {
   "cell_type": "markdown",
   "id": "e39be695",
   "metadata": {},
   "source": [
    "## Changing some categories to more wide-range ones to simplify dataset mapping"
   ]
  },
  {
   "cell_type": "code",
   "execution_count": 10,
   "id": "cccebe39",
   "metadata": {
    "scrolled": false
   },
   "outputs": [
    {
     "name": "stdout",
     "output_type": "stream",
     "text": [
      "\n",
      "Updated res_df categories after renames/merges:\n",
      " ['HR' 'DESIGN-CREATIVE' 'INFORMATION-TECHNOLOGY' 'TEACHER' 'ADVOCATE'\n",
      " 'BUSINESS-DEVELOPMENT' 'HEALTHCARE' 'FITNESS' 'AGRICULTURE-ENVIRONMENT'\n",
      " 'OPERATIONS-ADMIN' 'SALES' 'CONSULTANT' 'DIGITAL-MEDIA' 'AUTOMOBILE'\n",
      " 'CHEF' 'FINANCE' 'APPAREL' 'ENGINEERING-SCIENCE' 'ACCOUNTANT'\n",
      " 'CONSTRUCTION' 'PUBLIC-RELATIONS' 'BANKING' 'AVIATION']\n",
      "\n",
      "Value counts for updated res_df categories:\n",
      " Category\n",
      "DESIGN-CREATIVE            210\n",
      "INFORMATION-TECHNOLOGY     120\n",
      "BUSINESS-DEVELOPMENT       120\n",
      "ADVOCATE                   118\n",
      "ENGINEERING-SCIENCE        118\n",
      "ACCOUNTANT                 118\n",
      "CHEF                       118\n",
      "FINANCE                    118\n",
      "AVIATION                   117\n",
      "FITNESS                    117\n",
      "SALES                      116\n",
      "BANKING                    115\n",
      "CONSULTANT                 115\n",
      "HEALTHCARE                 115\n",
      "CONSTRUCTION               112\n",
      "PUBLIC-RELATIONS           111\n",
      "HR                         110\n",
      "TEACHER                    102\n",
      "APPAREL                     97\n",
      "DIGITAL-MEDIA               96\n",
      "AGRICULTURE-ENVIRONMENT     63\n",
      "AUTOMOBILE                  36\n",
      "OPERATIONS-ADMIN            22\n",
      "Name: count, dtype: int64\n"
     ]
    }
   ],
   "source": [
    "res_df['Category'] = res_df['Category'].replace('BPO', 'OPERATIONS-ADMIN')\n",
    "res_df['Category'] = res_df['Category'].replace('AGRICULTURE', 'AGRICULTURE-ENVIRONMENT')\n",
    "res_df['Category'] = res_df['Category'].replace(['ARTS', 'DESIGNER'], 'DESIGN-CREATIVE')\n",
    "res_df['Category'] = res_df['Category'].replace('ENGINEERING', 'ENGINEERING-SCIENCE')\n",
    "\n",
    "print(\"\\nUpdated res_df categories after renames/merges:\\n\", res_df['Category'].unique())\n",
    "print(\"\\nValue counts for updated res_df categories:\\n\", res_df['Category'].value_counts())"
   ]
  },
  {
   "cell_type": "markdown",
   "id": "afe4e071",
   "metadata": {},
   "source": [
    "## Exporting Consultant resumes to excel to categorize manually"
   ]
  },
  {
   "cell_type": "code",
   "execution_count": 11,
   "id": "4895043a",
   "metadata": {},
   "outputs": [],
   "source": [
    "consultant_resumes = res_df[res_df['Category'] == \"CONSULTANT\"]\n",
    "consultant_resumes.to_csv(r\"data/consultant_resumes.csv\", index=False)"
   ]
  },
  {
   "cell_type": "code",
   "execution_count": 12,
   "id": "fa4c9745",
   "metadata": {},
   "outputs": [],
   "source": [
    "consultant_updates_df = pd.read_csv(r\"data/consultant_resumes_separated.csv\")"
   ]
  },
  {
   "cell_type": "code",
   "execution_count": 13,
   "id": "42f72994",
   "metadata": {},
   "outputs": [],
   "source": [
    "# Set 'ID' as index for both DataFrames to use df.update()\n",
    "res_df = res_df.set_index('ID')\n",
    "consultant_updates_df = consultant_updates_df.set_index('ID')"
   ]
  },
  {
   "cell_type": "code",
   "execution_count": 14,
   "id": "401ea833",
   "metadata": {},
   "outputs": [],
   "source": [
    "# Update the 'Category' column in res_df using the values from consultant_updates_df\n",
    "# This will overwrite the original 'CONSULTANT' category with the new, specific ones.\n",
    "res_df.update(consultant_updates_df['Category'].to_frame())\n",
    "res_df['Category'] = res_df['Category'].str.strip()"
   ]
  },
  {
   "cell_type": "code",
   "execution_count": 15,
   "id": "2ec5dce2",
   "metadata": {},
   "outputs": [
    {
     "name": "stdout",
     "output_type": "stream",
     "text": [
      "Updated res_df categories:\n",
      " ['HR' 'DESIGN-CREATIVE' 'INFORMATION-TECHNOLOGY' 'TEACHER' 'ADVOCATE'\n",
      " 'BUSINESS-DEVELOPMENT' 'HEALTHCARE' 'FITNESS' 'AGRICULTURE-ENVIRONMENT'\n",
      " 'OPERATIONS-ADMIN' 'SALES' 'ACCOUNTANT' 'FINANCE' 'DIGITAL-MEDIA'\n",
      " 'CONSTRUCTION' 'ENGINEERING-SCIENCE' 'PUBLIC-RELATIONS' 'AUTOMOBILE'\n",
      " 'CHEF' 'APPAREL' 'BANKING' 'AVIATION']\n",
      "\n",
      "Value counts for updated res_df categories:\n",
      " Category\n",
      "DESIGN-CREATIVE            210\n",
      "INFORMATION-TECHNOLOGY     159\n",
      "HEALTHCARE                 133\n",
      "ENGINEERING-SCIENCE        126\n",
      "SALES                      125\n",
      "FINANCE                    124\n",
      "ACCOUNTANT                 122\n",
      "BUSINESS-DEVELOPMENT       121\n",
      "ADVOCATE                   121\n",
      "CHEF                       118\n",
      "FITNESS                    117\n",
      "AVIATION                   117\n",
      "BANKING                    115\n",
      "HR                         114\n",
      "CONSTRUCTION               114\n",
      "PUBLIC-RELATIONS           112\n",
      "DIGITAL-MEDIA              105\n",
      "TEACHER                    103\n",
      "APPAREL                     97\n",
      "AGRICULTURE-ENVIRONMENT     63\n",
      "AUTOMOBILE                  36\n",
      "OPERATIONS-ADMIN            32\n",
      "Name: count, dtype: int64\n"
     ]
    }
   ],
   "source": [
    "print(\"Updated res_df categories:\\n\", res_df['Category'].unique())\n",
    "print(\"\\nValue counts for updated res_df categories:\\n\", res_df['Category'].value_counts())"
   ]
  },
  {
   "cell_type": "code",
   "execution_count": 16,
   "id": "4e0902b7",
   "metadata": {
    "scrolled": true
   },
   "outputs": [
    {
     "data": {
      "text/plain": [
       "array(['Digital Marketing Specialist', 'Web Developer',\n",
       "       'Operations Manager', 'Network Engineer', 'Event Manager',\n",
       "       'Software Tester', 'Teacher', 'UX/UI Designer', 'Wedding Planner',\n",
       "       'QA Analyst', 'Litigation Attorney', 'Mechanical Engineer',\n",
       "       'Network Administrator', 'Account Manager', 'Brand Manager',\n",
       "       'Social Worker', 'Social Media Coordinator',\n",
       "       'Email Marketing Specialist', 'HR Generalist', 'Legal Assistant',\n",
       "       'Nurse Practitioner', 'Account Director', 'Software Engineer',\n",
       "       'Purchasing Agent', 'Sales Consultant', 'Civil Engineer',\n",
       "       'Network Security Specialist', 'UI Developer', 'Financial Planner',\n",
       "       'Event Planner', 'Psychologist', 'Electrical Designer',\n",
       "       'Data Analyst', 'Technical Writer', 'Tax Consultant',\n",
       "       'Account Executive', 'Systems Administrator',\n",
       "       'Database Administrator', 'Research Analyst', 'Data Entry Clerk',\n",
       "       'Registered Nurse', 'Investment Analyst', 'Speech Therapist',\n",
       "       'Sales Manager', 'Landscape Architect', 'Key Account Manager',\n",
       "       'UX Researcher', 'Investment Banker', 'IT Support Specialist',\n",
       "       'Art Director', 'Software Developer', 'Project Manager',\n",
       "       'Customer Service Manager', 'Procurement Manager',\n",
       "       'Substance Abuse Counselor', 'Supply Chain Analyst',\n",
       "       'Data Engineer', 'Accountant', 'Sales Representative',\n",
       "       'Environmental Consultant', 'Electrical Engineer',\n",
       "       'Systems Engineer', 'Art Teacher', 'Human Resources Manager',\n",
       "       'Inventory Analyst', 'Legal Counsel', 'Database Developer',\n",
       "       'Procurement Specialist', 'Systems Analyst', 'Copywriter',\n",
       "       'Content Writer', 'HR Coordinator', 'Business Development Manager',\n",
       "       'Java Developer', 'Supply Chain Manager', 'Event Coordinator',\n",
       "       'Family Nurse Practitioner', 'Front-End Engineer',\n",
       "       'Customer Success Manager', 'Procurement Coordinator',\n",
       "       'Urban Planner', 'Architectural Designer', 'Financial Analyst',\n",
       "       'Environmental Engineer', 'Back-End Developer',\n",
       "       'Structural Engineer', 'Market Research Analyst',\n",
       "       'Customer Service Representative', 'Customer Support Specialist',\n",
       "       'Business Analyst', 'Social Media Manager', 'Family Lawyer',\n",
       "       'Chemical Analyst', 'Network Technician', 'Interior Designer',\n",
       "       'Software Architect', 'Nurse Manager', 'Veterinarian',\n",
       "       'Process Engineer', 'IT Manager', 'Quality Assurance Analyst',\n",
       "       'Pharmaceutical Sales Representative', 'Office Manager',\n",
       "       'Architect', 'Physician Assistant', 'Marketing Director',\n",
       "       'Front-End Developer', 'Research Scientist', 'Executive Assistant',\n",
       "       'HR Manager', 'Marketing Manager', 'Public Relations Specialist',\n",
       "       'Financial Controller', 'Investment Advisor', 'Aerospace Engineer',\n",
       "       'Marketing Analyst', 'Paralegal', 'Landscape Designer',\n",
       "       'Web Designer', 'Occupational Therapist', 'Legal Advisor',\n",
       "       'Marketing Coordinator', 'Dental Hygienist', 'SEM Specialist',\n",
       "       'SEO Specialist', 'Pediatrician', 'QA Engineer', 'Data Scientist',\n",
       "       'Financial Advisor', 'Personal Assistant', 'SEO Analyst',\n",
       "       'Network Analyst', 'Mechanical Designer', 'Marketing Specialist',\n",
       "       'Graphic Designer', 'Finance Manager', 'Physical Therapist',\n",
       "       'Product Designer', 'Administrative Assistant', 'Brand Ambassador',\n",
       "       'Project Coordinator', 'Product Manager', 'IT Administrator',\n",
       "       'Sales Associate', 'Chemical Engineer', 'Legal Secretary',\n",
       "       'Market Analyst'], dtype=object)"
      ]
     },
     "execution_count": 16,
     "metadata": {},
     "output_type": "execute_result"
    }
   ],
   "source": [
    "job_df['Job Title'].unique()"
   ]
  },
  {
   "cell_type": "markdown",
   "id": "869e73f6",
   "metadata": {},
   "source": [
    "### Categories from Resume dataset with no strong JD matches or are too specific to job titles. FITNESS, AUTOMOBILE, CHEF, APPAREL - These are unlikely to be mapped from job titles, as their titles are not generic enough to catch here without high false positives. They remain as categories primarily for resume classification."
   ]
  },
  {
   "cell_type": "code",
   "execution_count": 17,
   "id": "f623a81d",
   "metadata": {},
   "outputs": [],
   "source": [
    "from mapping import map_job_to_category"
   ]
  },
  {
   "cell_type": "code",
   "execution_count": 18,
   "id": "c08579c0",
   "metadata": {},
   "outputs": [
    {
     "name": "stdout",
     "output_type": "stream",
     "text": [
      "\n",
      "Value counts for Mapped_Category in job_df:\n",
      " Mapped_Category\n",
      "INFORMATION-TECHNOLOGY    323458\n",
      "OPERATIONS-ADMIN          197683\n",
      "DIGITAL-MEDIA             173841\n",
      "DESIGN-CREATIVE           152470\n",
      "SALES                     146429\n",
      "HEALTHCARE                114978\n",
      "UNCATEGORIZED             107901\n",
      "ENGINEERING               107333\n",
      "FINANCE                    76081\n",
      "ADVOCATE                   73227\n",
      "HR                         41340\n",
      "CONSTRUCTION               24442\n",
      "TEACHER                    21123\n",
      "BANKING                    13854\n",
      "ACCOUNTANT                 10517\n",
      "PUBLIC-RELATIONS           10498\n",
      "AVIATION                   10441\n",
      "BUSINESS-DEVELOPMENT       10324\n",
      "Name: count, dtype: int64\n"
     ]
    }
   ],
   "source": [
    "# Apply the mapping function to the job_df\n",
    "job_df['Mapped_Category'] = job_df['Job Title'].apply(map_job_to_category)\n",
    "\n",
    "print(\"\\nValue counts for Mapped_Category in job_df:\\n\", job_df['Mapped_Category'].value_counts())"
   ]
  },
  {
   "cell_type": "code",
   "execution_count": 19,
   "id": "59464686",
   "metadata": {},
   "outputs": [
    {
     "name": "stdout",
     "output_type": "stream",
     "text": [
      "Job Title\n",
      "Purchasing Agent             17286\n",
      "Substance Abuse Counselor    10531\n",
      "Quality Assurance Analyst    10531\n",
      "Brand Manager                10514\n",
      "Social Worker                10386\n",
      "Psychologist                 10332\n",
      "Research Scientist           10319\n",
      "Data Entry Clerk              7072\n",
      "Systems Analyst               7037\n",
      "Product Manager               6876\n",
      "Market Analyst                3541\n",
      "IT Administrator              3476\n",
      "Name: count, dtype: int64\n"
     ]
    }
   ],
   "source": [
    "# Check how many remain uncategorized\n",
    "uncategorized_jobs = job_df[job_df['Mapped_Category'] == 'UNCATEGORIZED']\n",
    "print(uncategorized_jobs['Job Title'].value_counts())"
   ]
  },
  {
   "cell_type": "markdown",
   "id": "4133c0ab",
   "metadata": {},
   "source": [
    "## We modify the mapping function to handle uncategorized job titles"
   ]
  },
  {
   "cell_type": "code",
   "execution_count": 20,
   "id": "ac79fd20",
   "metadata": {},
   "outputs": [],
   "source": [
    "from mapping import map_job_to_category_modified"
   ]
  },
  {
   "cell_type": "code",
   "execution_count": 21,
   "id": "e883d0ee",
   "metadata": {},
   "outputs": [
    {
     "name": "stdout",
     "output_type": "stream",
     "text": [
      "\n",
      "Value counts for Mapped_Category in job_df:\n",
      " Mapped_Category\n",
      "INFORMATION-TECHNOLOGY     327135\n",
      "OPERATIONS-ADMIN           228917\n",
      "DIGITAL-MEDIA              198323\n",
      "DESIGN-CREATIVE            152470\n",
      "SALES                      146429\n",
      "HEALTHCARE                 146227\n",
      "ENGINEERING-SCIENCE        107340\n",
      "FINANCE                     76081\n",
      "ADVOCATE                    73227\n",
      "HR                          41340\n",
      "CONSTRUCTION                24442\n",
      "TEACHER                     21123\n",
      "AGRICULTURE-ENVIRONMENT     17252\n",
      "BANKING                     13854\n",
      "ACCOUNTANT                  10517\n",
      "PUBLIC-RELATIONS            10498\n",
      "AVIATION                    10441\n",
      "BUSINESS-DEVELOPMENT        10324\n",
      "Name: count, dtype: int64\n"
     ]
    }
   ],
   "source": [
    "# Apply the mapping function to the job_df\n",
    "job_df['Mapped_Category'] = job_df['Job Title'].apply(map_job_to_category_modified)\n",
    "\n",
    "print(\"\\nValue counts for Mapped_Category in job_df:\\n\", job_df['Mapped_Category'].value_counts())"
   ]
  },
  {
   "cell_type": "markdown",
   "id": "926dc790",
   "metadata": {},
   "source": [
    "## Which columns to remove?\n",
    "### job_df:\n",
    "* \"Experience\" and \"Work Type\" may become useful for error analysis later, so we should keep them, but not include them in the matching process.\n",
    "* We can combine \"Skills\" with \"Job Title\" and Job Description\" for similarity comparison.\n",
    "* \"Responsibilities\" column can be useful, but it isn't necessary for the resume matching process, so we can remove it along with all other columns.\n",
    "### re_df:\n",
    "* Keep \"Resume_str\" and \"Category\""
   ]
  },
  {
   "cell_type": "code",
   "execution_count": 22,
   "id": "cdbcf79f",
   "metadata": {},
   "outputs": [
    {
     "name": "stdout",
     "output_type": "stream",
     "text": [
      "Job Id                 0\n",
      "Experience             0\n",
      "Qualifications         0\n",
      "Salary Range           0\n",
      "location               0\n",
      "Country                0\n",
      "latitude               0\n",
      "longitude              0\n",
      "Work Type              0\n",
      "Company Size           0\n",
      "Job Posting Date       0\n",
      "Preference             0\n",
      "Contact Person         0\n",
      "Contact                0\n",
      "Job Title              0\n",
      "Role                   0\n",
      "Job Portal             0\n",
      "Job Description        0\n",
      "Benefits               0\n",
      "skills                 0\n",
      "Responsibilities       0\n",
      "Company                0\n",
      "Company Profile     5478\n",
      "Mapped_Category        0\n",
      "dtype: int64\n"
     ]
    }
   ],
   "source": [
    "print(job_df.isnull().sum())"
   ]
  },
  {
   "cell_type": "code",
   "execution_count": 23,
   "id": "3b142f24",
   "metadata": {},
   "outputs": [
    {
     "name": "stdout",
     "output_type": "stream",
     "text": [
      "Resume_str     0\n",
      "Resume_html    0\n",
      "Category       0\n",
      "dtype: int64\n"
     ]
    }
   ],
   "source": [
    "print(res_df.isnull().sum())"
   ]
  },
  {
   "cell_type": "code",
   "execution_count": 24,
   "id": "da507328",
   "metadata": {},
   "outputs": [
    {
     "name": "stdout",
     "output_type": "stream",
     "text": [
      "Removed columns from job_df.\n",
      "New columns: ['Job Details', 'Mapped_Category', 'Experience', 'Work Type']\n"
     ]
    }
   ],
   "source": [
    "# Create the new 'Job Details' column by concatenating Job Description, skills, and Job Title.\n",
    "\n",
    "job_df['Job Details'] = job_df['Job Title'] + \" \" + job_df['skills'] + \" \" + job_df['Job Description']\n",
    "\n",
    "# Define columns to keep for job_df based on the refined strategy\n",
    "columns_to_keep_job = [\n",
    "    'Job Details', # The main text for NLP\n",
    "    'Mapped_Category',       # The target category\n",
    "    'Experience',            # Kept for potential later analysis\n",
    "    'Work Type'              # Kept for potential later analysis\n",
    "]\n",
    "\n",
    "# Perform the column removal for job_df\n",
    "job_df = job_df[columns_to_keep_job]\n",
    "print(f\"Removed columns from job_df.\\nNew columns: {job_df.columns.tolist()}\")"
   ]
  },
  {
   "cell_type": "code",
   "execution_count": 25,
   "id": "816969f9",
   "metadata": {},
   "outputs": [
    {
     "name": "stdout",
     "output_type": "stream",
     "text": [
      "Removed columns from res_df. New columns: ['Resume_str', 'Category']\n"
     ]
    }
   ],
   "source": [
    "# Perform the column removal for res_df\n",
    "res_df = res_df[['Resume_str', 'Category']]\n",
    "print(f\"Removed columns from res_df. New columns: {res_df.columns.tolist()}\")"
   ]
  },
  {
   "cell_type": "code",
   "execution_count": 26,
   "id": "65a26245",
   "metadata": {},
   "outputs": [
    {
     "name": "stdout",
     "output_type": "stream",
     "text": [
      "\n",
      "job_df info after column operations:\n",
      "<class 'pandas.core.frame.DataFrame'>\n",
      "RangeIndex: 1615940 entries, 0 to 1615939\n",
      "Data columns (total 4 columns):\n",
      " #   Column           Non-Null Count    Dtype \n",
      "---  ------           --------------    ----- \n",
      " 0   Job Details      1615940 non-null  object\n",
      " 1   Mapped_Category  1615940 non-null  object\n",
      " 2   Experience       1615940 non-null  object\n",
      " 3   Work Type        1615940 non-null  object\n",
      "dtypes: object(4)\n",
      "memory usage: 49.3+ MB\n",
      "\n",
      "res_df info after column operations:\n",
      "<class 'pandas.core.frame.DataFrame'>\n",
      "Index: 2484 entries, 16852973 to 37473139\n",
      "Data columns (total 2 columns):\n",
      " #   Column      Non-Null Count  Dtype \n",
      "---  ------      --------------  ----- \n",
      " 0   Resume_str  2484 non-null   object\n",
      " 1   Category    2484 non-null   object\n",
      "dtypes: object(2)\n",
      "memory usage: 58.2+ KB\n"
     ]
    }
   ],
   "source": [
    "# Optional: Display info to confirm memory reduction and column types\n",
    "print(\"\\njob_df info after column operations:\")\n",
    "job_df.info()\n",
    "print(\"\\nres_df info after column operations:\")\n",
    "res_df.info()"
   ]
  },
  {
   "cell_type": "code",
   "execution_count": 27,
   "id": "3ff0d01f",
   "metadata": {},
   "outputs": [],
   "source": [
    "# Save dataframes for future use\n",
    "\n",
    "res_df.to_csv(r\"data\\res_data.csv\", index=False)\n",
    "job_df.to_csv(r\"data\\job_data.csv\", index=False)"
   ]
  }
 ],
 "metadata": {
  "kernelspec": {
   "display_name": "Python 3 (ipykernel)",
   "language": "python",
   "name": "python3"
  },
  "language_info": {
   "codemirror_mode": {
    "name": "ipython",
    "version": 3
   },
   "file_extension": ".py",
   "mimetype": "text/x-python",
   "name": "python",
   "nbconvert_exporter": "python",
   "pygments_lexer": "ipython3",
   "version": "3.11.11"
  }
 },
 "nbformat": 4,
 "nbformat_minor": 5
}
